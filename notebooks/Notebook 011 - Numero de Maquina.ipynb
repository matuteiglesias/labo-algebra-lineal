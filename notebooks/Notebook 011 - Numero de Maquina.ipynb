{
 "cells": [
  {
   "cell_type": "code",
   "execution_count": 1,
   "metadata": {},
   "outputs": [],
   "source": [
    "import numpy as np"
   ]
  },
  {
   "cell_type": "markdown",
   "metadata": {},
   "source": [
    "# Características de float (float64)"
   ]
  },
  {
   "cell_type": "code",
   "execution_count": 2,
   "metadata": {},
   "outputs": [
    {
     "name": "stdout",
     "output_type": "stream",
     "text": [
      "Máximo número flotante que puede representar Python:  1.7976931348623157e+308 \n",
      "\n",
      "Mínimo flotante positivo [normalizado] que puede representar Python:  2.2250738585072014e-308 \n",
      "\n",
      "Mínimo flotante positivo [subnormal] que puede representar Python:  5e-324 \n",
      "\n",
      "Epsilon de máquina:  2.220446049250313e-16\n"
     ]
    }
   ],
   "source": [
    "# Máximo número flotante que puede representar Python:\n",
    "print('Máximo número flotante que puede representar Python: ', np.finfo(float).max, '\\n')\n",
    "\n",
    "# Mínimo flotante positivo normalizado que puede representar Python:\n",
    "print('Mínimo flotante positivo [normalizado] que puede representar Python: ', np.finfo(float).tiny, '\\n')\n",
    "\n",
    "# Mínimo flotante positivo [subnormal] que puede representar Python:\n",
    "print('Mínimo flotante positivo [subnormal] que puede representar Python: ', np.nextafter(0., 1.), '\\n')\n",
    "\n",
    "# Epsilon de máquina\n",
    "print('Epsilon de máquina: ', np.finfo(float).eps)"
   ]
  },
  {
   "cell_type": "code",
   "execution_count": 3,
   "metadata": {},
   "outputs": [
    {
     "name": "stdout",
     "output_type": "stream",
     "text": [
      "1 + ε = 1.0000000000000002\n",
      "1 + ε/2 = 1.0 \n",
      "\n",
      "¿1 + ε = 1? False\n",
      "¿1 + ε/2 = 1? True\n"
     ]
    }
   ],
   "source": [
    "# Veamos que efectivamente el épsilon de máquina es el número de máquina más chico tal que 1 + eps es distinto de 1\n",
    "\n",
    "eps = np.finfo(np.double).eps\n",
    "print('1 + ε =', 1 + eps)\n",
    "print('1 + ε/2 =', 1 + eps/2,'\\n')\n",
    "\n",
    "print('¿1 + ε = 1?', 1 + eps == 1)\n",
    "print('¿1 + ε/2 = 1?', 1 + eps/2 == 1)"
   ]
  },
  {
   "cell_type": "markdown",
   "metadata": {},
   "source": [
    "# Problemas con 0.1"
   ]
  },
  {
   "cell_type": "code",
   "execution_count": 4,
   "metadata": {},
   "outputs": [
    {
     "name": "stdout",
     "output_type": "stream",
     "text": [
      "0.1\n",
      "0.10000000149011612\n"
     ]
    }
   ],
   "source": [
    "print(0.1)\n",
    "print(f\"{np.single(0.1):.17f}\") # muestro 17 lugares después de la coma\n",
    "# format(0.1,'.17f') # hace lo mimso que lo de arriba"
   ]
  },
  {
   "cell_type": "code",
   "execution_count": 5,
   "metadata": {},
   "outputs": [
    {
     "name": "stdout",
     "output_type": "stream",
     "text": [
      "0.1 + 0.2 = 0.10000000000000001 + 0.20000000000000001 = 0.30000000000000004\n",
      "0.3 = 0.29999999999999999\n"
     ]
    }
   ],
   "source": [
    "print(f\"0.1 + 0.2 = {0.1:.17f} + {0.2:.17f} = {0.1+0.2:.17f}\")\n",
    "print(f\"0.3 = {0.3:.17f}\")"
   ]
  },
  {
   "cell_type": "markdown",
   "metadata": {},
   "source": [
    "¿Qué entiende la máquina por 0.1?"
   ]
  },
  {
   "cell_type": "code",
   "execution_count": 6,
   "metadata": {},
   "outputs": [
    {
     "data": {
      "text/plain": [
       "(0.8, -3)"
      ]
     },
     "execution_count": 6,
     "metadata": {},
     "output_type": "execute_result"
    }
   ],
   "source": [
    "# Esto devuelve la mantissa como un valor entre -1 y 1 y el exponente del 2 (formato amigable)\n",
    "np.frexp(np.single(0.1))"
   ]
  },
  {
   "cell_type": "code",
   "execution_count": 7,
   "metadata": {},
   "outputs": [
    {
     "data": {
      "text/plain": [
       "0.10000000149011612"
      ]
     },
     "execution_count": 7,
     "metadata": {},
     "output_type": "execute_result"
    }
   ],
   "source": [
    "# Chequeo\n",
    "mantissa, exp = np.frexp(np.single(0.1))\n",
    "mantissa * 2.**exp"
   ]
  },
  {
   "cell_type": "markdown",
   "metadata": {},
   "source": [
    "En realidad el 0,8 es 0,[tira de 24 1s y 0s]"
   ]
  },
  {
   "cell_type": "code",
   "execution_count": 8,
   "metadata": {},
   "outputs": [
    {
     "name": "stdout",
     "output_type": "stream",
     "text": [
      "Mantissa guardada:\n"
     ]
    },
    {
     "data": {
      "text/plain": [
       "'110011001100110011001101'"
      ]
     },
     "execution_count": 8,
     "metadata": {},
     "output_type": "execute_result"
    }
   ],
   "source": [
    "mantissa_maquina = mantissa*(2**24) # corro la coma 24 lugares \n",
    "\n",
    "print('Mantissa guardada:')\n",
    "f\"{int(mantissa_maquina):b}\" # muestro en binario\n"
   ]
  },
  {
   "cell_type": "markdown",
   "metadata": {},
   "source": [
    "Aunque en verdad, verdad, no guarda $0,8 . 2^{-3}$ si no $1,6 . 2^{-4}$,\n",
    "\n",
    "donde el $1$ se asume y lo que se guarda es el $0,6$ en binario con 23 dígitos.\n",
    "\n",
    "O sea que el primer 1 de arriba no se guarda"
   ]
  },
  {
   "cell_type": "code",
   "execution_count": 9,
   "metadata": {},
   "outputs": [
    {
     "name": "stdout",
     "output_type": "stream",
     "text": [
      "Mantissa guardada de verdad:\n"
     ]
    },
    {
     "data": {
      "text/plain": [
       "'10011001100110011001101'"
      ]
     },
     "execution_count": 9,
     "metadata": {},
     "output_type": "execute_result"
    }
   ],
   "source": [
    "print('Mantissa guardada de verdad:')\n",
    "f\"{int(mantissa_maquina):b}\"[1:] # muestro en binario"
   ]
  },
  {
   "cell_type": "markdown",
   "metadata": {},
   "source": [
    "### float16\n",
    "\n",
    "np.float16 es una versión de punto flotante de 16 bits. \n",
    "\n",
    "Se usa 1 bit para el signo, 5 para el exponente y 10 para la mantissa (con el trucho del 1. tengo 11 digitos signficativos)"
   ]
  },
  {
   "cell_type": "code",
   "execution_count": 10,
   "metadata": {},
   "outputs": [
    {
     "name": "stdout",
     "output_type": "stream",
     "text": [
      "Máximo número flotante que puede representar en float16:  65500.0 \n",
      "\n",
      "Mínimo flotante positivo [normalizado] que puede representar en float16:  6.104e-05 \n",
      "\n",
      "Mínimo flotante positivo [subnormal] que puede representar en float16:  6e-08 \n",
      "\n",
      "Epsilon de máquina:  0.000977\n"
     ]
    }
   ],
   "source": [
    "# Máximo número flotante que puede representar en float16:\n",
    "print('Máximo número flotante que puede representar en float16: ', np.finfo(np.float16).max, '\\n')\n",
    "\n",
    "# Mínimo flotante positivo normalizado que puede representar en float16:\n",
    "print('Mínimo flotante positivo [normalizado] que puede representar en float16: ', np.finfo(np.float16).tiny, '\\n')\n",
    "\n",
    "# Mínimo flotante positivo [subnormal] que puede representar en float16:\n",
    "print('Mínimo flotante positivo [subnormal] que puede representar en float16: ', np.nextafter(np.float16(0.), np.float16(1.)), '\\n')\n",
    "\n",
    "# Epsilon de máquina\n",
    "print('Epsilon de máquina: ', np.finfo(np.float16).eps)"
   ]
  },
  {
   "cell_type": "markdown",
   "metadata": {},
   "source": [
    "Fijense que la precisión es del orden de 0.001. Así que es parecido a trabajar con base 10 y mantissa de 3 digitos"
   ]
  },
  {
   "cell_type": "code",
   "execution_count": 11,
   "metadata": {},
   "outputs": [
    {
     "data": {
      "text/plain": [
       "1.001"
      ]
     },
     "execution_count": 11,
     "metadata": {},
     "output_type": "execute_result"
    }
   ],
   "source": [
    "np.nextafter(np.float16(1),np.float16(2))"
   ]
  },
  {
   "cell_type": "markdown",
   "metadata": {},
   "source": [
    "A partir de $2^{10} = 1024$ y hasta $2^{11} = 2048$ los números que puedo representar son los enteros"
   ]
  },
  {
   "cell_type": "code",
   "execution_count": 12,
   "metadata": {},
   "outputs": [
    {
     "name": "stdout",
     "output_type": "stream",
     "text": [
      "El siguiente a 1024 es: \n"
     ]
    },
    {
     "data": {
      "text/plain": [
       "1025.0"
      ]
     },
     "execution_count": 12,
     "metadata": {},
     "output_type": "execute_result"
    }
   ],
   "source": [
    "print(\"El siguiente a 1024 es: \")\n",
    "np.nextafter(np.float16(1024),np.float16(2000))"
   ]
  },
  {
   "cell_type": "code",
   "execution_count": 13,
   "metadata": {},
   "outputs": [
    {
     "name": "stdout",
     "output_type": "stream",
     "text": [
      "fl(1030.5) =  1030.0\n"
     ]
    }
   ],
   "source": [
    "print(\"fl(1030.5) = \",np.float16(1030.5))"
   ]
  },
  {
   "cell_type": "markdown",
   "metadata": {},
   "source": [
    "A partir de $2^{11} = 2048$ ya sólo tengo números pares"
   ]
  },
  {
   "cell_type": "code",
   "execution_count": 14,
   "metadata": {},
   "outputs": [
    {
     "name": "stdout",
     "output_type": "stream",
     "text": [
      "El siguiente a 2048 es: \n"
     ]
    },
    {
     "data": {
      "text/plain": [
       "2050.0"
      ]
     },
     "execution_count": 14,
     "metadata": {},
     "output_type": "execute_result"
    }
   ],
   "source": [
    "print(\"El siguiente a 2048 es: \")\n",
    "np.nextafter(np.float16(2048),np.float16(2050))"
   ]
  },
  {
   "cell_type": "code",
   "execution_count": 15,
   "metadata": {},
   "outputs": [
    {
     "name": "stdout",
     "output_type": "stream",
     "text": [
      "2048.0 + 1.0 = 2048.0\n",
      "True\n"
     ]
    }
   ],
   "source": [
    "# Problema 1: sumar dos números muy distintos en magnitud hace que el más chico sea ignorado\n",
    "x = np.float16(2048)\n",
    "y = np.float16(1)\n",
    "print(f'{x} + {y} = {x + y}')\n",
    "print(x + y == x)"
   ]
  },
  {
   "cell_type": "code",
   "execution_count": 16,
   "metadata": {},
   "outputs": [
    {
     "data": {
      "text/plain": [
       "2048.0"
      ]
     },
     "execution_count": 16,
     "metadata": {},
     "output_type": "execute_result"
    }
   ],
   "source": [
    "# Problema 1': lo mismo puede pasar si sumamos muchos números chicos\n",
    "# Acá hago 1 + 1 + 1 + ... 3000 veces\n",
    "s =  np.float16(0)\n",
    "for i in range(3000):\n",
    "    s += np.float16(1)\n",
    "s"
   ]
  },
  {
   "cell_type": "code",
   "execution_count": 17,
   "metadata": {},
   "outputs": [
    {
     "name": "stdout",
     "output_type": "stream",
     "text": [
      "Suma de los primeros 200 terminos de 1/n : 5.86328125\n",
      "Suma de los primeros 400 terminos de 1/n : 6.64453125\n",
      "Suma de los primeros 600 terminos de 1/n : 7.0859375\n",
      "Suma de los primeros 800 terminos de 1/n : 7.0859375\n",
      "Suma de los primeros 1000 terminos de 1/n : 7.0859375\n"
     ]
    },
    {
     "data": {
      "text/plain": [
       "'Conclusión: la serie armonica converge a 7.0859375 :('"
      ]
     },
     "execution_count": 17,
     "metadata": {},
     "output_type": "execute_result"
    }
   ],
   "source": [
    "# Problema 1'': también si sumamos cosas cada vez más chiquitas\n",
    "\n",
    "# Hago un doble for para calcular las sumas parciales de 1/n hasta distintos valores\n",
    "for n in range(200,1001,200):\n",
    "    s =  np.float16(0)\n",
    "    for i in range(1,n):\n",
    "        s += np.float16(1/i)\n",
    "    print(f'Suma de los primeros {n} terminos de 1/n : {s}')\n",
    "f'Conclusión: la serie armonica converge a {s} :('"
   ]
  },
  {
   "cell_type": "code",
   "execution_count": 18,
   "metadata": {},
   "outputs": [
    {
     "name": "stdout",
     "output_type": "stream",
     "text": [
      "Cuenta bien: 256.22 - 256.02 = 0.20\n",
      "En float: 256.25 - 256.0 = 0.25\n",
      "Errror =  0.05\n",
      "Error relativo = 0.05/0.20 = 25%\n"
     ]
    }
   ],
   "source": [
    "# Problema 2: restar dos números muy parecidos genera cancelaciones catastróficas \n",
    "x = 256.22\n",
    "y = 256.02\n",
    "flx = np.float16(x)\n",
    "fly = np.float16(y)\n",
    "\n",
    "print(f'Cuenta bien: {x} - {y} = {x - y:.2f}')\n",
    "print(f'En float: {flx} - {fly} = {flx - fly}')\n",
    "\n",
    "error = np.float16(abs((x-y)-(flx-fly)))\n",
    "print('Error = ',error)\n",
    "print(f'Error relativo = {error:.2f}/{(x-y):.2f} = {error/(x-y):.0%}')"
   ]
  }
 ],
 "metadata": {
  "kernelspec": {
   "display_name": "Python 3 (ipykernel)",
   "language": "python",
   "name": "python3"
  },
  "language_info": {
   "codemirror_mode": {
    "name": "ipython",
    "version": 3
   },
   "file_extension": ".py",
   "mimetype": "text/x-python",
   "name": "python",
   "nbconvert_exporter": "python",
   "pygments_lexer": "ipython3",
   "version": "3.11.3"
  },
  "vscode": {
   "interpreter": {
    "hash": "369f2c481f4da34e4445cda3fffd2e751bd1c4d706f27375911949ba6bb62e1c"
   }
  }
 },
 "nbformat": 4,
 "nbformat_minor": 2
}
