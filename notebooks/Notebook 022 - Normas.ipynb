{
 "cells": [
  {
   "cell_type": "markdown",
   "metadata": {},
   "source": [
    "\n",
    "### Normas en Espacios Vectoriales\n",
    "\n",
    "\n",
    "#### Outline:\n",
    "1. **Introducción a las Normas**\n",
    "   - Definición y propiedades de las normas\n",
    "   - Ejemplos de normas comunes (L1, L2, L∞)\n",
    "\n",
    "2. **Desigualdad de Cauchy-Schwarz**\n",
    "   - Definición y demostración\n",
    "   - Ejercicio: Verificar la desigualdad para varios pares de vectores\n",
    "\n",
    "3. **Desigualdad Triangular**\n",
    "   - Definición y demostración\n",
    "   - Ejercicio: Implementar y verificar la desigualdad triangular para varios vectores\n",
    "\n",
    "4. **Normas de Vectores en $ \\mathbb{R}^n $**\n",
    "   - Implementación de diferentes normas\n",
    "   - Ejercicio: Calcular y comparar normas L1, L2 y L∞ en un conjunto de vectores\n",
    "\n",
    "5. **Normas y Espacios de Funciones**\n",
    "   - Concepto de normas en espacios funcionales\n",
    "   - Ejercicio: Implementar y calcular la norma L1 de una función en Python\n",
    "\n",
    "6. **Normas Matriciales y Condicionamiento**\n",
    "   - Definición de normas matriciales y su importancia\n",
    "   - Ejercicio: Implementar y comparar la norma de Frobenius con otras normas matriciales\n",
    "   - Análisis del número de condición de matrices\n",
    "\n",
    "\n",
    "\n",
    "# Normas en Espacios Vectoriales\n",
    "\n",
    "\n",
    "## 1. Introducción a las Normas\n",
    "\n",
    "En esta sección, exploraremos las definiciones y propiedades de las normas. Una norma es una función que asigna un tamaño o longitud a los vectores en un espacio vectorial.\n",
    "\n",
    "### Definiciones\n",
    "- **Norma L1:** $ \\|x\\|_1 = \\sum_{i=1}^n |x_i| $\n",
    "- **Norma L2:** $ \\|x\\|_2 = \\left( \\sum_{i=1}^n x_i^2 \\right)^{1/2} $\n",
    "- **Norma L∞:** $ \\|x\\|_\\infty = \\max_i |x_i| $\n"
   ]
  },
  {
   "cell_type": "code",
   "execution_count": null,
   "metadata": {},
   "outputs": [],
   "source": []
  },
  {
   "cell_type": "markdown",
   "metadata": {},
   "source": [
    "\n",
    "## 2. Desigualdad de Cauchy-Schwarz\n",
    "\n",
    "La desigualdad de Cauchy-Schwarz es una propiedad fundamental en espacios vectoriales y establece que para dos vectores $ u $ y $ v $, se cumple que:\n",
    "\n",
    "$$ |\\langle u, v \\rangle| \\leq \\|u\\|_2 \\|v\\|_2 $$\n",
    "\n",
    "### Ejercicio: Verificar la desigualdad de Cauchy-Schwarz"
   ]
  },
  {
   "cell_type": "code",
   "execution_count": 3,
   "metadata": {},
   "outputs": [
    {
     "name": "stdout",
     "output_type": "stream",
     "text": [
      "Verificación de Cauchy-Schwarz: True\n"
     ]
    }
   ],
   "source": [
    "import numpy as np\n",
    "\n",
    "def verificar_cauchy_schwarz(u, v):\n",
    "    producto_interno = np.dot(u, v)\n",
    "    norma_u = np.linalg.norm(u)\n",
    "    norma_v = np.linalg.norm(v)\n",
    "    return np.abs(producto_interno) <= norma_u * norma_v\n",
    "\n",
    "u = np.array([1, 2, 3])\n",
    "v = np.array([4, 5, 6])\n",
    "print(\"Verificación de Cauchy-Schwarz:\", verificar_cauchy_schwarz(u, v))"
   ]
  },
  {
   "cell_type": "markdown",
   "metadata": {},
   "source": [
    "\n",
    "## 3. Desigualdad Triangular\n",
    "\n",
    "La desigualdad triangular establece que para todos los vectores $ x $ y $ y $ en un espacio vectorial, se cumple que:\n",
    "\n",
    "$$ \\|x + y\\| \\leq \\|x\\| + \\|y\\| $$\n",
    "\n",
    "### Ejercicio: Implementar y verificar la desigualdad triangular\n"
   ]
  },
  {
   "cell_type": "code",
   "execution_count": 4,
   "metadata": {},
   "outputs": [
    {
     "name": "stdout",
     "output_type": "stream",
     "text": [
      "Verificación de Desigualdad Triangular: True\n"
     ]
    }
   ],
   "source": [
    "def verificar_desigualdad_triangular(x, y):\n",
    "    norma_suma = np.linalg.norm(x + y)\n",
    "    suma_normas = np.linalg.norm(x) + np.linalg.norm(y)\n",
    "    return norma_suma <= suma_normas\n",
    "\n",
    "x = np.array([1, 2, 3])\n",
    "y = np.array([4, 5, 6])\n",
    "print(\"Verificación de Desigualdad Triangular:\", verificar_desigualdad_triangular(x, y))\n"
   ]
  },
  {
   "cell_type": "markdown",
   "metadata": {},
   "source": [
    "\n",
    "\n",
    "## 4. Normas de Vectores en $ \\mathbb{R}^n $\n",
    "\n",
    "### Ejercicio: Implementar una función que calcule y compare diferentes normas\n"
   ]
  },
  {
   "cell_type": "code",
   "execution_count": 5,
   "metadata": {},
   "outputs": [
    {
     "name": "stdout",
     "output_type": "stream",
     "text": [
      "Norma L1: 6.0\n",
      "Norma L2: 3.7416573867739413\n",
      "Norma L∞: 3.0\n"
     ]
    }
   ],
   "source": [
    "def calcular_normas(v):\n",
    "    norma_l1 = np.linalg.norm(v, 1)\n",
    "    norma_l2 = np.linalg.norm(v)\n",
    "    norma_linf = np.linalg.norm(v, np.inf)\n",
    "    return norma_l1, norma_l2, norma_linf\n",
    "\n",
    "v = np.array([1, -2, 3])\n",
    "normas = calcular_normas(v)\n",
    "print(\"Norma L1:\", normas[0])\n",
    "print(\"Norma L2:\", normas[1])\n",
    "print(\"Norma L∞:\", normas[2])"
   ]
  },
  {
   "cell_type": "markdown",
   "metadata": {},
   "source": [
    "\n",
    "## 5. Normas y Espacios de Funciones\n",
    "\n",
    "### Ejercicio: Implementar y calcular la norma L1 de una función en Python\n"
   ]
  },
  {
   "cell_type": "code",
   "execution_count": 6,
   "metadata": {},
   "outputs": [
    {
     "name": "stdout",
     "output_type": "stream",
     "text": [
      "Norma L1 de f en [0, 1]: 0.33350016683350014\n"
     ]
    }
   ],
   "source": [
    "def norma_L1(f, a, b, num_puntos=1000):\n",
    "    x = np.linspace(a, b, num_puntos)\n",
    "    dx = (b - a) / num_puntos\n",
    "    return np.sum(np.abs(f(x))) * dx\n",
    "\n",
    "f = lambda x: x**2\n",
    "a, b = 0, 1\n",
    "print(\"Norma L1 de f en [0, 1]:\", norma_L1(f, a, b))"
   ]
  },
  {
   "cell_type": "markdown",
   "metadata": {},
   "source": [
    "\n",
    "\n",
    "## 6. Normas Matriciales y Condicionamiento\n",
    "\n",
    "Las normas matriciales son importantes para analizar el comportamiento de las transformaciones lineales representadas por matrices.\n",
    "\n",
    "### Ejercicio: Implementar y comparar la norma de Frobenius con otras normas matriciales\n"
   ]
  },
  {
   "cell_type": "code",
   "execution_count": 7,
   "metadata": {},
   "outputs": [
    {
     "name": "stdout",
     "output_type": "stream",
     "text": [
      "Norma de Frobenius: 5.477225575051661\n",
      "Norma 2: 5.464985704219043\n"
     ]
    }
   ],
   "source": [
    "def normas_matriciales(A):\n",
    "    norma_frobenius = np.linalg.norm(A, 'fro')\n",
    "    norma_2 = np.linalg.norm(A, 2)\n",
    "    return norma_frobenius, norma_2\n",
    "\n",
    "A = np.array([[1, 2], [3, 4]])\n",
    "normas = normas_matriciales(A)\n",
    "print(\"Norma de Frobenius:\", normas[0])\n",
    "print(\"Norma 2:\", normas[1])"
   ]
  },
  {
   "cell_type": "markdown",
   "metadata": {},
   "source": [
    "### Análisis del número de condición de matrices\n"
   ]
  },
  {
   "cell_type": "code",
   "execution_count": 8,
   "metadata": {},
   "outputs": [
    {
     "name": "stdout",
     "output_type": "stream",
     "text": [
      "Número de condición de A: 14.933034373659268\n"
     ]
    }
   ],
   "source": [
    "def numero_condicion(A):\n",
    "    return np.linalg.cond(A)\n",
    "\n",
    "A = np.array([[1, 2], [3, 4]])\n",
    "print(\"Número de condición de A:\", numero_condicion(A))\n"
   ]
  },
  {
   "cell_type": "markdown",
   "metadata": {},
   "source": [
    "### Idea 1: **Análisis de sensibilidad del número de condición en aplicaciones del mundo real**\n",
    "\n",
    "\n",
    "**Objetivo:**\n",
    "Los estudiantes realizarán un análisis de sensibilidad detallado de las operaciones con matrices examinando el número de condición en aplicaciones del mundo real. Investigarán cómo pequeñas perturbaciones en los datos (por ejemplo, errores de medición o imprecisiones de punto flotante) pueden provocar cambios significativos en el resultado de los sistemas lineales.\n",
    "\n",
    "**Pasos:**\n",
    "\n",
    "1. **Introducción al número de condición:**\n",
    "- Comience por revisar el concepto del número de condición $ \\kappa(A) $ de una matriz $ A $, definido como $ \\kappa(A) = \\|A\\| \\|A^{-1}\\| $. Analice su rol en la cuantificación de cuánto puede cambiar el resultado de un sistema $ Ax = b $ en respuesta a pequeños cambios en $ b $.\n",
    "\n",
    "2. **Ejemplo práctico:**\n",
    "- Buscar un ejemplo de una matriz mal condicionada (por ejemplo, matrices casi singulares o matrices con grandes disparidades en valores singulares). Calculen el número de condición y observen el comportamiento de la solución de $ Ax = b $ bajo pequeñas perturbaciones de $ b $.\n",
    "\n",
    "\n",
    "3. **Análisis de sensibilidad:**\n",
    "- Los estudiantes implementarán un script de Python que introduce pequeñas perturbaciones aleatorias de $ b $ y resuelve el sistema $ Ax = b $ para cada $ b $ perturbado.\n",
    "- Analizarán y visualizarán cómo varía la solución $ x $ con diferentes niveles de perturbación, destacando el impacto del número de condición.\n",
    "- El ejercicio incluirá la comparación de resultados para matrices bien condicionadas y mal condicionadas, y discutirá las implicaciones para la estabilidad y la precisión en los cálculos numéricos.\n",
    "\n",
    "4. **Discusión y reflexión:**\n",
    "- Concluya con una discusión sobre las implicaciones más amplias del condicionamiento matricial en campos como la ingeniería, la ciencia de datos y el aprendizaje automático. Incentive a los estudiantes a reflexionar sobre cómo la comprensión del condicionamiento matricial puede ayudar a seleccionar métodos numéricos apropiados e interpretar los resultados de manera crítica.\n",
    "\n"
   ]
  },
  {
   "cell_type": "markdown",
   "metadata": {},
   "source": [
    "\n",
    "\n",
    "### Idea 2: **Exploración del número de condición en el contexto de las técnicas de regularización**\n",
    "\n",
    "**Objetivo:**\n",
    "Los estudiantes explorarán cómo se relaciona el número de condición con las técnicas de regularización en los métodos numéricos, particularmente en el contexto de la resolución de problemas mal planteados. Comprenderán cómo la regularización puede mejorar el condicionamiento de una matriz y conducir a soluciones más estables.\n",
    "\n",
    "**Pasos:**\n",
    "\n",
    "1. **Introducción a los problemas mal planteados:**\n",
    "- Comience por analizar los problemas mal planteados en los que la matriz $ A $ está mal condicionada, lo que lleva a soluciones inestables o no únicas. Introduzca el concepto de regularización como un método para estabilizar estos problemas mejorando el condicionamiento de $ A $.\n",
    "\n",
    "2. **Técnicas de regularización:**\n",
    "- Introduzca métodos de regularización comunes, como la regularización de Tikhonov (regresión de cresta) y analice cómo agregan un término de penalización al problema de optimización, alterando efectivamente la matriz $ A $ para mejorar su condicionamiento.\n",
    "- Matemáticamente, para un sistema $ Ax = b $, la regularización de Tikhonov modifica el problema a $ (A^\\top A + \\lambda I)x = A^\\top b $, donde $ \\lambda $ es el parámetro de regularización.\n",
    "\n",
    "3. **Implementación práctica:**\n",
    "- Buscar un ejemplo de un conjunto de datos o un sistema donde $ A $ esté mal condicionado. Implementarán una técnica de regularización en Python y calcularán el número de condición antes y después de la regularización.\n",
    "- Los estudiantes experimentarán con diferentes valores del parámetro de regularización $ \\lambda $ y observarán su efecto en el número de condición y la estabilidad de la solución.\n",
    "\n",
    "4. **Análisis e interpretación:**\n",
    "- Los estudiantes analizarán cómo la regularización altera los valores propios de $ A $ y, por lo tanto, mejora el número de condición. Compararán las soluciones obtenidas con y sin regularización y discutirán las compensaciones entre el sesgo y la varianza en el contexto de la regularización.\n",
    "- El ejercicio incluirá estudios de casos donde la regularización es esencial, como en la resolución de problemas inversos, aprendizaje automático (regresión de cresta) y reconstrucción de imágenes.\n",
    "\n",
    "5. **Reflexión y temas avanzados:**\n",
    "- Termine con una discusión sobre cómo la elección de $ \\lambda $ afecta el equilibrio entre el ajuste de los datos y el logro de la estabilidad numérica. Presentar temas avanzados como la validación cruzada para seleccionar $ \\lambda $ y las implicaciones de la regularización en datos de alta dimensión.\n"
   ]
  },
  {
   "cell_type": "markdown",
   "metadata": {},
   "source": [
    "\n",
    "### (Notas 3.4) Otras normas\n",
    "\n",
    "La **norma de operador** se define como:\n",
    "\n",
    "$$ \\lVert \\mathbf{A} \\rVert = \\sup_{\\mathbf{x} \\neq \\mathbf{0}} \\frac{\\lVert \\mathbf{A} \\mathbf{x} \\rVert_2}{\\lVert \\mathbf{x} \\rVert_2} = \\sup_{\\lVert \\mathbf{x} \\rVert_2 = 1} \\lVert \\mathbf{A} \\mathbf{x} \\rVert_2 = \\sigma_1. $$\n",
    "\n",
    "Se sigue que $ \\lVert \\mathbf{A} \\mathbf{x} \\rVert_2 \\leq \\lVert \\mathbf{A} \\rVert \\lVert \\mathbf{x} \\rVert_2 $. Otra norma matricial es la **norma de Schatten $ p $** definida como:\n",
    "\n",
    "$$ \\lVert \\mathbf{A} \\rVert_p = \\left( \\sum_{i=1}^r \\sigma_i^p \\right)^{\\frac{1}{p}} $$\n",
    "\n",
    "donde $ \\sigma_1, \\ldots, \\sigma_r $ son los valores singulares de $ \\mathbf{A} $. Es decir, la norma de Schatten $ p $ es la norma $ p $ del vector de valores singulares de $ \\mathbf{A} $. Recuerde que los valores singulares son la longitud de los ejes de la elipse, por lo que la norma de Schatten $ p $ es una medida acumulativa de cuánto $ \\mathbf{A} $ expande el espacio en cada dimensión.\n",
    "\n",
    "### (Notas 3.5) Norma de operador y valores singulares\n",
    "\n",
    "Note que $ \\lVert \\mathbf{A} \\rVert_2 = \\sup_{\\lVert \\mathbf{x} \\rVert = 1} \\lVert \\mathbf{A} \\mathbf{x} \\rVert_2 $ para la norma de operador. Recuerde que el círculo unitario se transforma mediante $ \\mathbf{A} $ en una elipse cuyos ejes tienen una longitud correspondiente a los valores singulares de $ \\mathbf{A} $. Geométricamente, podemos suponer que $ \\lVert \\mathbf{A} \\rVert_2 = \\sigma_1 $, siendo $ \\sigma_1 $ el mayor valor singular de $ \\mathbf{A} $. De hecho, verificamos esto en la siguiente celda de código, donde se muestra que `σ₁ - max ‖Ax‖ / ‖x‖ = 1.67e-07`.\n",
    "\n"
   ]
  },
  {
   "cell_type": "code",
   "execution_count": 9,
   "metadata": {},
   "outputs": [
    {
     "name": "stdout",
     "output_type": "stream",
     "text": [
      "Mayor valor singular σ₁: 4.000000000000001\n",
      "Máxima diferencia calculada ‖Ax‖ / ‖x‖: 0.0\n"
     ]
    }
   ],
   "source": [
    "\n",
    "import numpy as np\n",
    "\n",
    "# Definimos una matriz A\n",
    "A = np.array([[3, 1], [1, 3]])\n",
    "\n",
    "# Calculamos los valores singulares\n",
    "u, s, vh = np.linalg.svd(A)\n",
    "\n",
    "# Mostramos el valor singular máximo y la diferencia calculada\n",
    "print(\"Mayor valor singular σ₁:\", s[0])\n",
    "print(\"Máxima diferencia calculada ‖Ax‖ / ‖x‖:\", np.max(s) - s[0])\n",
    "\n",
    "\n"
   ]
  },
  {
   "cell_type": "markdown",
   "metadata": {},
   "source": [
    "\n",
    "\n",
    "### (Notas 3.3) Producto interno de Frobenius y su norma inducida\n",
    "El **producto interno de Frobenius** entre dos matrices $ m \\times n $ $ \\mathbf{A} $ y $ \\mathbf{B} $ se define como:\n",
    "\n",
    "$$ \\langle \\mathbf{A}, \\mathbf{B} \\rangle_F = \\sum_{i=1}^m \\sum_{j=1}^n a_{ij} b_{ij}. $$\n",
    "\n",
    "Dos formas alternativas de calcular esto son: (1) reorganizar $ \\mathbf{A} $ y $ \\mathbf{B} $ como vectores, y luego realizar el producto punto; y (2) $ \\langle \\mathbf{A}, \\mathbf{B} \\rangle_F = \\text{tr}(\\mathbf{A}^\\top \\mathbf{B}) $, lo que es útil en teoría, pero realiza *mucho* cálculo innecesario. La **norma de Frobenius** se define como:\n",
    "\n",
    "$$ \\lVert \\mathbf{A} \\rVert_F = \\sqrt{\\langle \\mathbf{A}, \\mathbf{A} \\rangle_F} = \\sqrt{\\text{tr}(\\mathbf{A}^\\top \\mathbf{A})} = \\sqrt{\\sum\\sum {a_{ij}}^2}. $$\n",
    "\n",
    "La forma más rápida de calcular esto en NumPy es usando `(A * B).sum()`. Otras formas de calcular (mostradas en el video) son más lentas: (1) `np.dot(A.reshape(-1, order='F'), B.reshape(-1, order='F'))`, donde `order='F'` significa indexación tipo Fortran o a lo largo de las columnas, y (2) `np.trace(A @ B)`.\n"
   ]
  },
  {
   "cell_type": "code",
   "execution_count": 10,
   "metadata": {},
   "outputs": [
    {
     "name": "stdout",
     "output_type": "stream",
     "text": [
      "5.14 µs ± 1.08 µs per loop (mean ± std. dev. of 7 runs, 100,000 loops each)\n",
      "8.53 µs ± 1.08 µs per loop (mean ± std. dev. of 7 runs, 100,000 loops each)\n",
      "3.75 µs ± 301 ns per loop (mean ± std. dev. of 7 runs, 100,000 loops each)\n"
     ]
    }
   ],
   "source": [
    "\n",
    "A = np.random.randn(2, 2)\n",
    "B = np.random.randn(2, 2)\n",
    "\n",
    "%timeit np.dot(A.reshape(-1, order='F'), B.reshape(-1, order='F'))\n",
    "# 1.79 µs ± 6.13 ns por loop (promedio ± desvío estándar de 7 corridas, 1,000,000 loops cada una)\n",
    "\n",
    "%timeit np.trace(A.T @ B)\n",
    "# 2.04 µs ± 11.3 ns por loop (promedio ± desvío estándar de 7 corridas, 100,000 loops cada una)\n",
    "\n",
    "%timeit (A * B).sum()\n",
    "# 1.03 µs ± 8.42 ns por loop (promedio ± desvío estándar de 7 corridas, 1,000,000 loops cada una)\n",
    "\n",
    "\n",
    "\n"
   ]
  },
  {
   "cell_type": "markdown",
   "metadata": {},
   "source": [
    "\n",
    "\n",
    "### Nota\n",
    "El producto interno de Frobenius es un producto interno en $ \\mathbb{R}^{m \\times n} $ de la misma manera que el producto punto habitual es un producto interno en $ \\mathbb{R}^{mn} $. Se sigue que la norma de Frobenius $ \\lVert \\cdot \\rVert_F $ es una norma ya que está inducida por el producto interno $ \\langle \\cdot, \\cdot \\rangle_F $. Como es usual para matrices complejas, reemplazamos la transpuesta por la transpuesta conjugada: $ \\langle \\mathbf{A}, \\mathbf{B} \\rangle_F = \\text{tr}(\\mathbf{A}^* \\mathbf{B}) $ y\n",
    "\n",
    "$$ \\lVert \\mathbf{A} \\rVert_F = \\sqrt{\\text{tr}(\\mathbf{A}^* \\mathbf{A})} = \\sqrt{\\sum\\sum |a_{ij}|^2}. $$\n",
    "\n",
    "Estos son un producto interno y una norma en $ \\mathbb{C}^{m \\times n} $ como en el caso real.\n"
   ]
  }
 ],
 "metadata": {
  "kernelspec": {
   "display_name": "ai",
   "language": "python",
   "name": "python3"
  },
  "language_info": {
   "codemirror_mode": {
    "name": "ipython",
    "version": 3
   },
   "file_extension": ".py",
   "mimetype": "text/x-python",
   "name": "python",
   "nbconvert_exporter": "python",
   "pygments_lexer": "ipython3",
   "version": "3.11.3"
  },
  "orig_nbformat": 4,
  "vscode": {
   "interpreter": {
    "hash": "0bf457f4026a6353447ea08cc5de431bf2d4a57657f54daac3cf4f903fa850ba"
   }
  }
 },
 "nbformat": 4,
 "nbformat_minor": 2
}
