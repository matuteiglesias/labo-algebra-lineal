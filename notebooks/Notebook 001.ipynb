{
 "cells": [
  {
   "cell_type": "markdown",
   "metadata": {
    "id": "lcFTHgZ0U4sT"
   },
   "source": [
    "# [Numpy](https://numpy.org/doc/stable/index.html)\n",
    "\n"
   ]
  },
  {
   "cell_type": "code",
   "execution_count": 1,
   "metadata": {
    "id": "C9yw-iuSU4sV"
   },
   "outputs": [],
   "source": [
    "import numpy as np"
   ]
  },
  {
   "cell_type": "markdown",
   "metadata": {
    "id": "aVRqxEEG69YI"
   },
   "source": [
    "Tipos de numpy"
   ]
  },
  {
   "cell_type": "code",
   "execution_count": 2,
   "metadata": {
    "colab": {
     "base_uri": "https://localhost:8080/"
    },
    "id": "B3QZXB1_6omb",
    "outputId": "8323e95d-e34c-4f85-e8cd-73e343833a08"
   },
   "outputs": [
    {
     "data": {
      "text/plain": [
       "(numpy.bool_,\n",
       " numpy.int8,\n",
       " numpy.uint8,\n",
       " numpy.int16,\n",
       " numpy.uint16,\n",
       " numpy.int32,\n",
       " numpy.uint32,\n",
       " numpy.int64,\n",
       " numpy.uint64,\n",
       " numpy.longlong,\n",
       " numpy.ulonglong,\n",
       " numpy.float16,\n",
       " numpy.float16,\n",
       " numpy.float32,\n",
       " numpy.float64,\n",
       " numpy.float128,\n",
       " numpy.complex64,\n",
       " numpy.complex128,\n",
       " numpy.complex256)"
      ]
     },
     "execution_count": 2,
     "metadata": {},
     "output_type": "execute_result"
    }
   ],
   "source": [
    "np.bool_, np.byte, np.ubyte, np.short, np.ushort, np.intc, np.uintc, np.int_, np.uint, np.longlong, np.ulonglong, np.half, np.float16, np.single, np.double, np.longdouble, np.csingle, np.cdouble, np.clongdouble"
   ]
  },
  {
   "cell_type": "markdown",
   "metadata": {
    "id": "jIhJ7KnrU4sX"
   },
   "source": [
    "## [Arrays](https://numpy.org/doc/stable/reference/arrays.html)"
   ]
  },
  {
   "cell_type": "markdown",
   "metadata": {
    "id": "s-XDS8y7U4sX"
   },
   "source": [
    "Los arrays son el tipo de datos más importante que provee NumPy. En su versión más básica representan vectores pero pueden tener más dimensiones y representar matrices y tensores en general.\n",
    "\n",
    "El tipo se llama ndarray pero también se lo conoce en la librería simplemente como array.\n",
    "\n",
    "En su versión más simple podemos pensar que no es más que una lista de python pero:\n",
    "\n",
    "* A diferencia de las listas en python, solo pueden tener un tipo de datos adentro.\n",
    "* Existen un montón de operaciones matemáticas definidas y optimizadas para trabajar con este tipo de datos.\n",
    "\n",
    "Al ser una clase de python, además de métodos tiene atributos. Veamos algunos de ellos"
   ]
  },
  {
   "cell_type": "code",
   "execution_count": 3,
   "metadata": {
    "colab": {
     "base_uri": "https://localhost:8080/"
    },
    "id": "AdYE6LIKU4sY",
    "outputId": "45d4558e-8d90-4005-e691-083762c37c81"
   },
   "outputs": [
    {
     "data": {
      "text/plain": [
       "array([ 0,  1,  2,  3,  4,  5,  6,  7,  8,  9, 10, 11, 12, 13, 14, 15, 16,\n",
       "       17, 18, 19])"
      ]
     },
     "execution_count": 3,
     "metadata": {},
     "output_type": "execute_result"
    }
   ],
   "source": [
    "an_array = np.arange(20)\n",
    "an_array"
   ]
  },
  {
   "cell_type": "code",
   "execution_count": 4,
   "metadata": {
    "colab": {
     "base_uri": "https://localhost:8080/"
    },
    "id": "--oV7HVCU4sZ",
    "outputId": "a5740a62-6057-46f8-f713-04c1450b5dbc"
   },
   "outputs": [
    {
     "data": {
      "text/plain": [
       "(20,)"
      ]
     },
     "execution_count": 4,
     "metadata": {},
     "output_type": "execute_result"
    }
   ],
   "source": [
    "an_array.shape"
   ]
  },
  {
   "cell_type": "code",
   "execution_count": 5,
   "metadata": {
    "colab": {
     "base_uri": "https://localhost:8080/"
    },
    "id": "AltxszNXU4sZ",
    "outputId": "77a12a78-bd34-4b4c-8000-5823ce32b251"
   },
   "outputs": [
    {
     "data": {
      "text/plain": [
       "1"
      ]
     },
     "execution_count": 5,
     "metadata": {},
     "output_type": "execute_result"
    }
   ],
   "source": [
    "an_array.ndim"
   ]
  },
  {
   "cell_type": "code",
   "execution_count": 6,
   "metadata": {
    "colab": {
     "base_uri": "https://localhost:8080/"
    },
    "id": "k8J7kCyfU4sa",
    "outputId": "3834d60e-e296-4244-9384-8cf3462a1689"
   },
   "outputs": [
    {
     "data": {
      "text/plain": [
       "20"
      ]
     },
     "execution_count": 6,
     "metadata": {},
     "output_type": "execute_result"
    }
   ],
   "source": [
    "an_array.size"
   ]
  },
  {
   "cell_type": "code",
   "execution_count": 7,
   "metadata": {
    "colab": {
     "base_uri": "https://localhost:8080/"
    },
    "id": "JdYnKIj5U4sa",
    "outputId": "3e307aa2-c1b1-4237-ba4e-1a67b4586296"
   },
   "outputs": [
    {
     "data": {
      "text/plain": [
       "dtype('int64')"
      ]
     },
     "execution_count": 7,
     "metadata": {},
     "output_type": "execute_result"
    }
   ],
   "source": [
    "an_array.dtype"
   ]
  },
  {
   "cell_type": "markdown",
   "metadata": {
    "id": "2AlTmDLhU4se"
   },
   "source": [
    "### [Armando arrays](https://numpy.org/doc/stable/user/basics.creation.html)"
   ]
  },
  {
   "cell_type": "markdown",
   "metadata": {
    "id": "BrWAWOHiU4se"
   },
   "source": [
    "Por un lado, tenemos el constructor de la clase que admite como parámetro listas de valores. Por otro lado, existen diversas funciones que crean arrays. Veamos algunas."
   ]
  },
  {
   "cell_type": "code",
   "execution_count": 8,
   "metadata": {
    "colab": {
     "base_uri": "https://localhost:8080/"
    },
    "id": "ucb8dIPIU4se",
    "outputId": "d7bb5e87-6355-4d8f-9335-5bab0597dc0b"
   },
   "outputs": [
    {
     "data": {
      "text/plain": [
       "array([1, 2, 3, 4])"
      ]
     },
     "execution_count": 8,
     "metadata": {},
     "output_type": "execute_result"
    }
   ],
   "source": [
    "np.array([1,2,3,4])"
   ]
  },
  {
   "cell_type": "code",
   "execution_count": 9,
   "metadata": {
    "colab": {
     "base_uri": "https://localhost:8080/"
    },
    "id": "HRVHSvDeU4se",
    "outputId": "3cb89fcd-1139-451d-dc7b-57f8e40b63b2"
   },
   "outputs": [
    {
     "data": {
      "text/plain": [
       "array([10, 12, 14, 16, 18, 20, 22, 24, 26, 28])"
      ]
     },
     "execution_count": 9,
     "metadata": {},
     "output_type": "execute_result"
    }
   ],
   "source": [
    "np.arange(10,30,2)"
   ]
  },
  {
   "cell_type": "code",
   "execution_count": 10,
   "metadata": {
    "colab": {
     "base_uri": "https://localhost:8080/"
    },
    "id": "x2x_vXejU4se",
    "outputId": "2c34bd07-8011-48b4-8c45-991e9485b71a"
   },
   "outputs": [
    {
     "data": {
      "text/plain": [
       "array([0.1       , 0.23333333, 0.36666667, 0.5       ])"
      ]
     },
     "execution_count": 10,
     "metadata": {},
     "output_type": "execute_result"
    }
   ],
   "source": [
    "np.linspace(0.1,0.5,4)"
   ]
  },
  {
   "cell_type": "code",
   "execution_count": 11,
   "metadata": {
    "colab": {
     "base_uri": "https://localhost:8080/"
    },
    "id": "656rvkyYU4sf",
    "outputId": "4bf9030c-4f9d-475d-a4ca-23c51502b507"
   },
   "outputs": [
    {
     "data": {
      "text/plain": [
       "array([1.e+01, 1.e+02, 1.e+03, 1.e+04, 1.e+05, 1.e+06, 1.e+07, 1.e+08,\n",
       "       1.e+09, 1.e+10])"
      ]
     },
     "execution_count": 11,
     "metadata": {},
     "output_type": "execute_result"
    }
   ],
   "source": [
    "np.logspace(1,10,10)"
   ]
  },
  {
   "cell_type": "code",
   "execution_count": 12,
   "metadata": {
    "colab": {
     "base_uri": "https://localhost:8080/"
    },
    "id": "aXgzDkSlU4sf",
    "outputId": "33e40c73-ae2e-4c25-cfe2-2c96fe448c36"
   },
   "outputs": [
    {
     "data": {
      "text/plain": [
       "array([[0., 0.],\n",
       "       [0., 0.],\n",
       "       [0., 0.]])"
      ]
     },
     "execution_count": 12,
     "metadata": {},
     "output_type": "execute_result"
    }
   ],
   "source": [
    "np.zeros((3,2))"
   ]
  },
  {
   "cell_type": "code",
   "execution_count": 13,
   "metadata": {
    "colab": {
     "base_uri": "https://localhost:8080/"
    },
    "id": "a8hJy73uU4sf",
    "outputId": "11e76196-efe6-41b4-9d49-ece1add1c684"
   },
   "outputs": [
    {
     "data": {
      "text/plain": [
       "array([[1., 1., 1.],\n",
       "       [1., 1., 1.]])"
      ]
     },
     "execution_count": 13,
     "metadata": {},
     "output_type": "execute_result"
    }
   ],
   "source": [
    "np.ones((2,3))"
   ]
  },
  {
   "cell_type": "code",
   "execution_count": 14,
   "metadata": {
    "colab": {
     "base_uri": "https://localhost:8080/"
    },
    "id": "CXOuKCBAhT-R",
    "outputId": "92fce34b-9279-4ff3-ac41-f339916e9a1e"
   },
   "outputs": [
    {
     "data": {
      "text/plain": [
       "array([[0.97089891, 0.48918971],\n",
       "       [0.9935421 , 0.02775979],\n",
       "       [0.23161978, 0.06222531]])"
      ]
     },
     "execution_count": 14,
     "metadata": {},
     "output_type": "execute_result"
    }
   ],
   "source": [
    "np.random.rand(3,2) # random entre 0 y 1"
   ]
  },
  {
   "cell_type": "code",
   "execution_count": 15,
   "metadata": {
    "colab": {
     "base_uri": "https://localhost:8080/"
    },
    "id": "IppJwl9UhZde",
    "outputId": "3285aaf7-5ff8-406f-c611-ca5ba140d157"
   },
   "outputs": [
    {
     "data": {
      "text/plain": [
       "array([[6, 7],\n",
       "       [9, 8],\n",
       "       [4, 3]])"
      ]
     },
     "execution_count": 15,
     "metadata": {},
     "output_type": "execute_result"
    }
   ],
   "source": [
    "np.random.randint(1,10,(3,2)) # enteros random entre [1 y 10)"
   ]
  },
  {
   "cell_type": "code",
   "execution_count": 16,
   "metadata": {
    "colab": {
     "base_uri": "https://localhost:8080/"
    },
    "id": "hSRDkakvU4sf",
    "outputId": "d23508c6-221d-4f54-aa99-b76ab0794668"
   },
   "outputs": [
    {
     "data": {
      "text/plain": [
       "array([[-0.357811  ,  0.7205878 ],\n",
       "       [ 1.35559227, -0.92366493],\n",
       "       [ 2.08245792,  0.07183823],\n",
       "       [ 0.21232088, -0.64619573],\n",
       "       [ 0.55452519, -1.82501112],\n",
       "       [-0.83844983,  1.20305603],\n",
       "       [-1.865581  ,  0.60531625],\n",
       "       [-1.93579269,  0.76160475]])"
      ]
     },
     "execution_count": 16,
     "metadata": {},
     "output_type": "execute_result"
    }
   ],
   "source": [
    "np.random.standard_normal((8,2))"
   ]
  },
  {
   "cell_type": "markdown",
   "metadata": {
    "id": "miDJcz_GFBma"
   },
   "source": [
    "Propiedades de un arreglo"
   ]
  },
  {
   "cell_type": "code",
   "execution_count": 17,
   "metadata": {
    "colab": {
     "base_uri": "https://localhost:8080/"
    },
    "id": "RGsIfaEOFDyD",
    "outputId": "82ae192e-5121-48db-e628-a0cd38118a20"
   },
   "outputs": [
    {
     "name": "stdout",
     "output_type": "stream",
     "text": [
      "dimensiones:  (2, 3)\n",
      "cantidad de dimensiones:  2\n",
      "cantidad de elementos:  6\n",
      "tipo:  float64\n"
     ]
    }
   ],
   "source": [
    "an_array = np.ones((2,3))\n",
    "print('dimensiones: ', an_array.shape)\n",
    "print('cantidad de dimensiones: ', an_array.ndim)\n",
    "print('cantidad de elementos: ', an_array.size)\n",
    "print('tipo: ', an_array.dtype)"
   ]
  },
  {
   "cell_type": "markdown",
   "metadata": {
    "id": "vdipe8b9EqRp"
   },
   "source": [
    "Se puede cambiar el tipo de un array"
   ]
  },
  {
   "cell_type": "code",
   "execution_count": 18,
   "metadata": {
    "colab": {
     "base_uri": "https://localhost:8080/"
    },
    "id": "WcAjlxQdEs_O",
    "outputId": "dabccc6e-7094-4052-ad78-bc933c097262"
   },
   "outputs": [
    {
     "data": {
      "text/plain": [
       "array([0. , 0.5, 1. , 1.5, 2. , 2.5, 3. , 3.5, 4. , 4.5, 5. , 5.5, 6. ,\n",
       "       6.5, 7. , 7.5, 8. , 8.5, 9. , 9.5])"
      ]
     },
     "execution_count": 18,
     "metadata": {},
     "output_type": "execute_result"
    }
   ],
   "source": [
    "np.arange(0,10,0.5)"
   ]
  },
  {
   "cell_type": "code",
   "execution_count": 19,
   "metadata": {
    "colab": {
     "base_uri": "https://localhost:8080/"
    },
    "id": "sQha4U_kEw_E",
    "outputId": "afaaa8c2-9f4a-4a03-8dc3-006090237c42"
   },
   "outputs": [
    {
     "data": {
      "text/plain": [
       "array([0, 0, 1, 1, 2, 2, 3, 3, 4, 4, 5, 5, 6, 6, 7, 7, 8, 8, 9, 9],\n",
       "      dtype=int32)"
      ]
     },
     "execution_count": 19,
     "metadata": {},
     "output_type": "execute_result"
    }
   ],
   "source": [
    "np.arange(0,10,0.5).astype(np.int32)"
   ]
  },
  {
   "cell_type": "markdown",
   "metadata": {
    "id": "1OY73h_fU4sa"
   },
   "source": [
    "## Matrices"
   ]
  },
  {
   "cell_type": "markdown",
   "metadata": {
    "id": "HyURVXvPU4sb"
   },
   "source": [
    "Las matrices no son más que array con 2 dimensiones. Si bien existe un tipo específico para matrices en numpy cayó en desuso (y obsolescencia)."
   ]
  },
  {
   "cell_type": "code",
   "execution_count": 20,
   "metadata": {
    "colab": {
     "base_uri": "https://localhost:8080/"
    },
    "id": "PcUdgL_8U4sb",
    "outputId": "fdc1dfbf-a2a3-4105-8c41-1a58def93e00"
   },
   "outputs": [
    {
     "data": {
      "text/plain": [
       "array([[ 0,  1,  2,  3],\n",
       "       [ 4,  5,  6,  7],\n",
       "       [ 8,  9, 10, 11],\n",
       "       [12, 13, 14, 15]])"
      ]
     },
     "execution_count": 20,
     "metadata": {},
     "output_type": "execute_result"
    }
   ],
   "source": [
    "a_matrix = np.array([[ 0,  1,  2,  3],\n",
    "                    [ 4,  5,  6,  7],\n",
    "                    [ 8,  9, 10, 11],\n",
    "                    [12, 13, 14, 15]])\n",
    "a_matrix"
   ]
  },
  {
   "cell_type": "code",
   "execution_count": 21,
   "metadata": {
    "colab": {
     "base_uri": "https://localhost:8080/"
    },
    "id": "SLvmg8s9U4sb",
    "outputId": "8dae343d-68c1-46b4-d5fc-2419eb2307d2"
   },
   "outputs": [
    {
     "name": "stdout",
     "output_type": "stream",
     "text": [
      "(4, 4) 2 16 int64\n"
     ]
    }
   ],
   "source": [
    "print(a_matrix.shape, a_matrix.ndim, a_matrix.size, a_matrix.dtype)"
   ]
  },
  {
   "cell_type": "markdown",
   "metadata": {
    "id": "tWyR3FUUfce0"
   },
   "source": [
    "### Matrices especiales"
   ]
  },
  {
   "cell_type": "code",
   "execution_count": 22,
   "metadata": {
    "colab": {
     "base_uri": "https://localhost:8080/"
    },
    "id": "Z0pM2MiIfbxR",
    "outputId": "d7988ab0-718d-4053-d148-15ebf333eb8c"
   },
   "outputs": [
    {
     "data": {
      "text/plain": [
       "array([[1., 0., 0.],\n",
       "       [0., 1., 0.],\n",
       "       [0., 0., 1.]])"
      ]
     },
     "execution_count": 22,
     "metadata": {},
     "output_type": "execute_result"
    }
   ],
   "source": [
    "np.eye(3) # Identidad de 3x3"
   ]
  },
  {
   "cell_type": "code",
   "execution_count": 23,
   "metadata": {
    "colab": {
     "base_uri": "https://localhost:8080/"
    },
    "id": "lXKZM93ffgk5",
    "outputId": "80c79b41-96cc-482b-e7a1-9f8e6455e5ad"
   },
   "outputs": [
    {
     "data": {
      "text/plain": [
       "array([[77,  0],\n",
       "       [ 0, 90]])"
      ]
     },
     "execution_count": 23,
     "metadata": {},
     "output_type": "execute_result"
    }
   ],
   "source": [
    "np.diag([77,90]) # Matriz diagonal"
   ]
  },
  {
   "cell_type": "code",
   "execution_count": 24,
   "metadata": {
    "colab": {
     "base_uri": "https://localhost:8080/"
    },
    "id": "JOXxw5dSfjvV",
    "outputId": "3abda1b4-0f2c-4164-85ee-a93e1589b973"
   },
   "outputs": [
    {
     "data": {
      "text/plain": [
       "array([[0., 1., 0., 0.],\n",
       "       [0., 0., 1., 0.],\n",
       "       [0., 0., 0., 1.],\n",
       "       [0., 0., 0., 0.]])"
      ]
     },
     "execution_count": 24,
     "metadata": {},
     "output_type": "execute_result"
    }
   ],
   "source": [
    "np.diag(np.ones(3),1) # Superdiagonal 1"
   ]
  },
  {
   "cell_type": "code",
   "execution_count": 25,
   "metadata": {
    "colab": {
     "base_uri": "https://localhost:8080/"
    },
    "id": "MtF_sDXGFTwa",
    "outputId": "15619629-0a46-41c0-ecf3-33fad4042a70"
   },
   "outputs": [
    {
     "data": {
      "text/plain": [
       "array([[ 1,  0,  0,  0],\n",
       "       [ 1,  1,  1,  1],\n",
       "       [ 1,  2,  4,  8],\n",
       "       [ 1,  3,  9, 27]])"
      ]
     },
     "execution_count": 25,
     "metadata": {},
     "output_type": "execute_result"
    }
   ],
   "source": [
    "np.vander(np.arange(4),increasing=True) # Matriz de Vandermonde (veremos al final de la materia qué significa)"
   ]
  },
  {
   "cell_type": "markdown",
   "metadata": {
    "id": "V5UvvqhfU4sb"
   },
   "source": [
    "## Cambio de dimensiones"
   ]
  },
  {
   "cell_type": "markdown",
   "metadata": {
    "id": "5zEVl7LIU4sc"
   },
   "source": [
    "Algunos métodos que modifican las dimensiones:\n",
    "* reshape: Devuelve un nuevo array con las dimensiones indicadas como\n",
    "parámetro. Si alguno de los parámetros es igual a -1, se calculan las\n",
    "dimensiones para que sea factible el cambio.\n",
    "\n",
    "* resize: el mismo efecto que “reshape” pero modifica el array en vez de devolver\n",
    "uno nuevo.\n",
    "\n",
    "* T: sirve para transponer una matriz.\n",
    "\n",
    "* ravel, flattened: “aplana” el array devolviendo todo en una sola dimensión."
   ]
  },
  {
   "cell_type": "code",
   "execution_count": 26,
   "metadata": {
    "colab": {
     "base_uri": "https://localhost:8080/"
    },
    "id": "dAFXPhu8U4sc",
    "outputId": "9fcbef0a-5bac-40c5-eebc-d4864f721c69"
   },
   "outputs": [
    {
     "data": {
      "text/plain": [
       "array([[ 0,  1,  2,  3],\n",
       "       [ 4,  5,  6,  7],\n",
       "       [ 8,  9, 10, 11],\n",
       "       [12, 13, 14, 15]])"
      ]
     },
     "execution_count": 26,
     "metadata": {},
     "output_type": "execute_result"
    }
   ],
   "source": [
    "a_matrix"
   ]
  },
  {
   "cell_type": "code",
   "execution_count": 27,
   "metadata": {},
   "outputs": [
    {
     "data": {
      "text/plain": [
       "array([[ 0,  1,  2,  3,  4,  5,  6,  7,  8,  9, 10, 11, 12, 13, 14, 15]])"
      ]
     },
     "execution_count": 27,
     "metadata": {},
     "output_type": "execute_result"
    }
   ],
   "source": [
    "a_matrix.reshape(1,16)"
   ]
  },
  {
   "cell_type": "code",
   "execution_count": 28,
   "metadata": {
    "colab": {
     "base_uri": "https://localhost:8080/"
    },
    "id": "XTbvbLN0U4sd",
    "outputId": "504d0270-4f20-4435-aaff-31618136abcb"
   },
   "outputs": [
    {
     "data": {
      "text/plain": [
       "array([[ 0,  4,  8, 12],\n",
       "       [ 1,  5,  9, 13],\n",
       "       [ 2,  6, 10, 14],\n",
       "       [ 3,  7, 11, 15]])"
      ]
     },
     "execution_count": 28,
     "metadata": {},
     "output_type": "execute_result"
    }
   ],
   "source": [
    "a_matrix.T"
   ]
  },
  {
   "cell_type": "code",
   "execution_count": 29,
   "metadata": {
    "colab": {
     "base_uri": "https://localhost:8080/"
    },
    "id": "1-ycmi3SU4sd",
    "outputId": "8a837149-46dc-4f9e-84d0-d677488fb270"
   },
   "outputs": [
    {
     "data": {
      "text/plain": [
       "array([ 0,  1,  2,  3,  4,  5,  6,  7,  8,  9, 10, 11, 12, 13, 14, 15])"
      ]
     },
     "execution_count": 29,
     "metadata": {},
     "output_type": "execute_result"
    }
   ],
   "source": [
    "a_matrix.ravel()"
   ]
  },
  {
   "cell_type": "code",
   "execution_count": 30,
   "metadata": {
    "colab": {
     "base_uri": "https://localhost:8080/"
    },
    "id": "MwuSJ0pGU4sc",
    "outputId": "1336d37b-fc8a-4467-8ea6-286dd09b950b"
   },
   "outputs": [
    {
     "data": {
      "text/plain": [
       "array([[ 0,  1,  2,  3,  4,  5,  6,  7,  8,  9, 10, 11, 12, 13, 14, 15]])"
      ]
     },
     "execution_count": 30,
     "metadata": {},
     "output_type": "execute_result"
    }
   ],
   "source": [
    "a_matrix.resize(1,16)\n",
    "a_matrix"
   ]
  },
  {
   "cell_type": "markdown",
   "metadata": {
    "id": "D6F6Pyk2U4sf"
   },
   "source": [
    "## Operaciones con arrays"
   ]
  },
  {
   "cell_type": "markdown",
   "metadata": {
    "id": "dwWHmax9U4sf"
   },
   "source": [
    "Existen muchísimas operaciones definidas para arrays."
   ]
  },
  {
   "cell_type": "markdown",
   "metadata": {
    "id": "kWcBRtObU4sf"
   },
   "source": [
    "### Operadores básicos\n",
    "\n",
    "Los operadores básicos de sumas, restas, potencias, etc se encuentran sobrecargados."
   ]
  },
  {
   "cell_type": "code",
   "execution_count": 31,
   "metadata": {
    "colab": {
     "base_uri": "https://localhost:8080/"
    },
    "id": "bHvMHmswU4sg",
    "outputId": "70495308-419b-49f8-d82d-74248df069ce"
   },
   "outputs": [
    {
     "data": {
      "text/plain": [
       "(array([1, 2, 3, 4, 5, 6]), array([1., 1., 1., 1., 1., 1.]))"
      ]
     },
     "execution_count": 31,
     "metadata": {},
     "output_type": "execute_result"
    }
   ],
   "source": [
    "v = np.arange(1,7)\n",
    "w = np.ones(6)\n",
    "v, w"
   ]
  },
  {
   "cell_type": "code",
   "execution_count": 32,
   "metadata": {
    "colab": {
     "base_uri": "https://localhost:8080/"
    },
    "id": "Std_KFLGU4sg",
    "outputId": "dfcd318a-d625-49e9-90c1-b4ba3ca1b137"
   },
   "outputs": [
    {
     "data": {
      "text/plain": [
       "array([2., 3., 4., 5., 6., 7.])"
      ]
     },
     "execution_count": 32,
     "metadata": {},
     "output_type": "execute_result"
    }
   ],
   "source": [
    "v + w"
   ]
  },
  {
   "cell_type": "code",
   "execution_count": 33,
   "metadata": {
    "colab": {
     "base_uri": "https://localhost:8080/"
    },
    "id": "u9JzxPbYFsT6",
    "outputId": "eaebf23d-d467-46e4-ef34-4f63428979be"
   },
   "outputs": [
    {
     "data": {
      "text/plain": [
       "array([False,  True,  True,  True,  True,  True])"
      ]
     },
     "execution_count": 33,
     "metadata": {},
     "output_type": "execute_result"
    }
   ],
   "source": [
    "v > w"
   ]
  },
  {
   "cell_type": "code",
   "execution_count": 34,
   "metadata": {
    "colab": {
     "base_uri": "https://localhost:8080/"
    },
    "id": "WbZw3saEU4sg",
    "outputId": "45ad9dc2-9ad8-4873-9323-0cb604739b59"
   },
   "outputs": [
    {
     "data": {
      "text/plain": [
       "array([0., 1., 2., 3., 4., 5.])"
      ]
     },
     "execution_count": 34,
     "metadata": {},
     "output_type": "execute_result"
    }
   ],
   "source": [
    "v - w"
   ]
  },
  {
   "cell_type": "code",
   "execution_count": 35,
   "metadata": {
    "colab": {
     "base_uri": "https://localhost:8080/"
    },
    "id": "CquY5gv4U4sg",
    "outputId": "dc7fea4b-a190-45dc-c951-c36795527ed4"
   },
   "outputs": [
    {
     "data": {
      "text/plain": [
       "array([ 1,  4,  9, 16, 25, 36])"
      ]
     },
     "execution_count": 35,
     "metadata": {},
     "output_type": "execute_result"
    }
   ],
   "source": [
    "v ** 2"
   ]
  },
  {
   "cell_type": "code",
   "execution_count": 36,
   "metadata": {
    "colab": {
     "base_uri": "https://localhost:8080/"
    },
    "id": "TtZELem1U4sg",
    "outputId": "15351031-f9b2-4da9-b53f-169d4723b365"
   },
   "outputs": [
    {
     "data": {
      "text/plain": [
       "array([1.        , 1.41421356, 1.73205081, 2.        , 2.23606798,\n",
       "       2.44948974])"
      ]
     },
     "execution_count": 36,
     "metadata": {},
     "output_type": "execute_result"
    }
   ],
   "source": [
    "np.sqrt(v)"
   ]
  },
  {
   "cell_type": "code",
   "execution_count": 37,
   "metadata": {
    "colab": {
     "base_uri": "https://localhost:8080/"
    },
    "id": "wl9i19HIU4sg",
    "outputId": "58e1fe5d-b71a-41f0-bec5-05438ea8d135"
   },
   "outputs": [
    {
     "name": "stdout",
     "output_type": "stream",
     "text": [
      "[ 0.84147098  0.90929743  0.14112001 -0.7568025  -0.95892427 -0.2794155 ] \n",
      " [ 0.54030231 -0.41614684 -0.9899925  -0.65364362  0.28366219  0.96017029] \n",
      " [ 0. -1. -1. -1.  0.  0.] \n",
      " [ 1. -0. -1. -1.  0.  1.]\n"
     ]
    }
   ],
   "source": [
    "print(np.sin(v), \"\\n\", np.cos(v), \"\\n\", np.floor(np.cos(v)), \"\\n\", np.round(np.cos(v)))"
   ]
  },
  {
   "cell_type": "markdown",
   "metadata": {
    "id": "M3gDPuIPU4sh"
   },
   "source": [
    "### Operaciones entre vectores"
   ]
  },
  {
   "cell_type": "code",
   "execution_count": 38,
   "metadata": {
    "colab": {
     "base_uri": "https://localhost:8080/"
    },
    "id": "MlIDOOMhU4sh",
    "outputId": "6ac43338-4d09-4b4b-92e9-970b38224c80"
   },
   "outputs": [
    {
     "data": {
      "text/plain": [
       "21.0"
      ]
     },
     "execution_count": 38,
     "metadata": {},
     "output_type": "execute_result"
    }
   ],
   "source": [
    "np.dot(v,w) #Producto iterno (o escalar)"
   ]
  },
  {
   "cell_type": "code",
   "execution_count": 39,
   "metadata": {
    "colab": {
     "base_uri": "https://localhost:8080/"
    },
    "id": "acpw7kRmU4sh",
    "outputId": "8f4b7309-7d3c-4cbb-bb52-d756ef207400"
   },
   "outputs": [
    {
     "data": {
      "text/plain": [
       "array([[1., 1., 1., 1., 1., 1.],\n",
       "       [2., 2., 2., 2., 2., 2.],\n",
       "       [3., 3., 3., 3., 3., 3.],\n",
       "       [4., 4., 4., 4., 4., 4.],\n",
       "       [5., 5., 5., 5., 5., 5.],\n",
       "       [6., 6., 6., 6., 6., 6.]])"
      ]
     },
     "execution_count": 39,
     "metadata": {},
     "output_type": "execute_result"
    }
   ],
   "source": [
    "np.outer(v,w) #Producto externo"
   ]
  },
  {
   "cell_type": "markdown",
   "metadata": {
    "id": "xktWd52NU4sh"
   },
   "source": [
    "### Multiplicación de matrices\n",
    "\n",
    "Existe la multiplicación clásica entre matrices (con\n",
    "el símbolo @) o el producto elemento a elemento (producto Hadamard)"
   ]
  },
  {
   "cell_type": "code",
   "execution_count": 40,
   "metadata": {
    "colab": {
     "base_uri": "https://localhost:8080/"
    },
    "id": "hhId4kMlU4sh",
    "outputId": "5b7a65cf-fbde-4733-c727-d18b7f9fe17c"
   },
   "outputs": [
    {
     "data": {
      "text/plain": [
       "(array([[1, 2, 3],\n",
       "        [4, 5, 6],\n",
       "        [7, 8, 9]]),\n",
       " array([[1., 1., 1.],\n",
       "        [1., 1., 1.],\n",
       "        [1., 1., 1.]]))"
      ]
     },
     "execution_count": 40,
     "metadata": {},
     "output_type": "execute_result"
    }
   ],
   "source": [
    "M1 = np.arange(1,10).reshape(3,3)\n",
    "M2 = np.ones((3,3))\n",
    "M1, M2"
   ]
  },
  {
   "cell_type": "code",
   "execution_count": 41,
   "metadata": {
    "colab": {
     "base_uri": "https://localhost:8080/"
    },
    "id": "ijp2xKTFU4sh",
    "outputId": "90e596ae-bbaf-47fa-e83d-ab5f7cc4b842"
   },
   "outputs": [
    {
     "data": {
      "text/plain": [
       "array([[1., 2., 3.],\n",
       "       [4., 5., 6.],\n",
       "       [7., 8., 9.]])"
      ]
     },
     "execution_count": 41,
     "metadata": {},
     "output_type": "execute_result"
    }
   ],
   "source": [
    "M1 * M2 #Producto Hadamard o elemento a elemento"
   ]
  },
  {
   "cell_type": "code",
   "execution_count": 42,
   "metadata": {
    "colab": {
     "base_uri": "https://localhost:8080/"
    },
    "id": "pMhIGrvlcYP-",
    "outputId": "4cf60b92-44ca-421b-bca2-40b7d1014816"
   },
   "outputs": [
    {
     "data": {
      "text/plain": [
       "array([[ 6.,  6.,  6.],\n",
       "       [15., 15., 15.],\n",
       "       [24., 24., 24.]])"
      ]
     },
     "execution_count": 42,
     "metadata": {},
     "output_type": "execute_result"
    }
   ],
   "source": [
    "np.matmul(M1,M2) #Producto interno de matrices"
   ]
  },
  {
   "cell_type": "code",
   "execution_count": 43,
   "metadata": {
    "colab": {
     "base_uri": "https://localhost:8080/"
    },
    "id": "PrQg7yZQU4si",
    "outputId": "487e0d19-1a8e-4c2e-87b8-9897854551a6"
   },
   "outputs": [
    {
     "data": {
      "text/plain": [
       "array([[ 6.,  6.,  6.],\n",
       "       [15., 15., 15.],\n",
       "       [24., 24., 24.]])"
      ]
     },
     "execution_count": 43,
     "metadata": {},
     "output_type": "execute_result"
    }
   ],
   "source": [
    "M1 @ M2 #Producto interno de matrices"
   ]
  },
  {
   "cell_type": "markdown",
   "metadata": {
    "id": "4dAKsw5LU4si"
   },
   "source": [
    "**EJERCICIO**: Multiplicar $M_{1}v$ siendo $v = (1,1,1)$ como columna"
   ]
  },
  {
   "cell_type": "code",
   "execution_count": 44,
   "metadata": {
    "colab": {
     "base_uri": "https://localhost:8080/"
    },
    "id": "sl9NNEG6U4si",
    "outputId": "d173f2fd-a3a6-403c-b4b2-1c6e152f565a"
   },
   "outputs": [
    {
     "data": {
      "text/plain": [
       "Ellipsis"
      ]
     },
     "execution_count": 44,
     "metadata": {},
     "output_type": "execute_result"
    }
   ],
   "source": [
    "..."
   ]
  },
  {
   "cell_type": "markdown",
   "metadata": {
    "id": "36ig2IzoU4sk"
   },
   "source": [
    "## [Indexación de arreglos](https://numpy.org/doc/stable/user/basics.indexing.html)"
   ]
  },
  {
   "cell_type": "markdown",
   "metadata": {
    "id": "vTPdzaLeU4sk"
   },
   "source": [
    "Los arrays en NumPy se pueden acceder a posiciones particulares o mediante 'slicing' de maneras parecidas a las listas nativas. Observar los siguientes comandos e interpretar."
   ]
  },
  {
   "cell_type": "code",
   "execution_count": 45,
   "metadata": {
    "colab": {
     "base_uri": "https://localhost:8080/"
    },
    "id": "q2EThWzAU4sk",
    "outputId": "3ee2bf20-3273-47ab-9ccc-150ad5c990bf"
   },
   "outputs": [
    {
     "data": {
      "text/plain": [
       "array([ 0,  2,  4,  6,  8, 10, 12, 14, 16, 18, 20, 22, 24, 26, 28, 30, 32,\n",
       "       34, 36, 38])"
      ]
     },
     "execution_count": 45,
     "metadata": {},
     "output_type": "execute_result"
    }
   ],
   "source": [
    "an_array = np.arange(0,40,2)\n",
    "an_array"
   ]
  },
  {
   "cell_type": "code",
   "execution_count": 46,
   "metadata": {
    "colab": {
     "base_uri": "https://localhost:8080/"
    },
    "id": "yxltsYSoU4sk",
    "outputId": "72a3e7ef-4e3e-45da-d19c-45e6ff46c0eb"
   },
   "outputs": [
    {
     "data": {
      "text/plain": [
       "12"
      ]
     },
     "execution_count": 46,
     "metadata": {},
     "output_type": "execute_result"
    }
   ],
   "source": [
    "an_array[6]"
   ]
  },
  {
   "cell_type": "code",
   "execution_count": 47,
   "metadata": {
    "colab": {
     "base_uri": "https://localhost:8080/"
    },
    "id": "RXuU03q_U4sk",
    "outputId": "04d2e72e-34da-4348-ce41-0f6171612909"
   },
   "outputs": [
    {
     "data": {
      "text/plain": [
       "array([ 4,  8, 12, 16, 20, 24, 28, 32])"
      ]
     },
     "execution_count": 47,
     "metadata": {},
     "output_type": "execute_result"
    }
   ],
   "source": [
    "start = 2\n",
    "end = 18\n",
    "step = 2\n",
    "\n",
    "an_array[start:end:step]"
   ]
  },
  {
   "cell_type": "code",
   "execution_count": 48,
   "metadata": {
    "colab": {
     "base_uri": "https://localhost:8080/"
    },
    "id": "6y8TEsivU4sk",
    "outputId": "2d1a4b6a-b948-47ab-9725-1f7a2ba496e3"
   },
   "outputs": [
    {
     "data": {
      "text/plain": [
       "array([ 0,  2,  4,  6,  8, 10, 12, 14, 16, 18, 20, 22, 24, 26, 28, 30, 32,\n",
       "       34])"
      ]
     },
     "execution_count": 48,
     "metadata": {},
     "output_type": "execute_result"
    }
   ],
   "source": [
    "# Son equivalentes\n",
    "#an_array[0:end:]\n",
    "#an_array[:end:]\n",
    "an_array[:end]"
   ]
  },
  {
   "cell_type": "code",
   "execution_count": 49,
   "metadata": {
    "colab": {
     "base_uri": "https://localhost:8080/"
    },
    "id": "HSfX35TfU4sk",
    "outputId": "e46735da-b39b-4df4-c816-8aabda9976c5"
   },
   "outputs": [
    {
     "data": {
      "text/plain": [
       "array([ 0,  2,  4,  6,  8, 10, 12, 14, 16, 18, 20, 22, 24, 26, 28, 30, 32,\n",
       "       34, 36])"
      ]
     },
     "execution_count": 49,
     "metadata": {},
     "output_type": "execute_result"
    }
   ],
   "source": [
    "an_array[:-1]"
   ]
  },
  {
   "cell_type": "code",
   "execution_count": 50,
   "metadata": {
    "colab": {
     "base_uri": "https://localhost:8080/"
    },
    "id": "x1Ye-oiPU4sl",
    "outputId": "ef2636d4-546d-4844-8766-4bcad6cb68cd"
   },
   "outputs": [
    {
     "data": {
      "text/plain": [
       "array([ 0,  2,  4,  6,  8, 10, 12, 14, 16, 18, 20, 22, 24, 26, 28, 30, 32,\n",
       "       34, 36, 38])"
      ]
     },
     "execution_count": 50,
     "metadata": {},
     "output_type": "execute_result"
    }
   ],
   "source": [
    "an_array[::]"
   ]
  },
  {
   "cell_type": "code",
   "execution_count": 51,
   "metadata": {
    "colab": {
     "base_uri": "https://localhost:8080/"
    },
    "id": "1zzPz4kHU4sl",
    "outputId": "47e950f7-d06c-4551-92a1-8b962fdfc828"
   },
   "outputs": [
    {
     "data": {
      "text/plain": [
       "array([38, 36, 34, 32, 30, 28, 26, 24, 22, 20, 18, 16, 14, 12, 10,  8,  6,\n",
       "        4,  2,  0])"
      ]
     },
     "execution_count": 51,
     "metadata": {},
     "output_type": "execute_result"
    }
   ],
   "source": [
    "an_array[::-1]"
   ]
  },
  {
   "cell_type": "code",
   "execution_count": 52,
   "metadata": {
    "colab": {
     "base_uri": "https://localhost:8080/"
    },
    "id": "vX5OYJwvU4sl",
    "outputId": "f1e99000-f8c7-4981-9327-8f2512f1bdc4"
   },
   "outputs": [
    {
     "name": "stdout",
     "output_type": "stream",
     "text": [
      "0\n",
      "2\n",
      "4\n",
      "6\n",
      "8\n"
     ]
    }
   ],
   "source": [
    "for element in an_array[:5]:\n",
    "    print(element)"
   ]
  },
  {
   "cell_type": "code",
   "execution_count": 53,
   "metadata": {
    "colab": {
     "base_uri": "https://localhost:8080/"
    },
    "id": "QQdKq34QU4sl",
    "outputId": "22995acd-fb19-4ca5-8a29-29e9d2de5a83"
   },
   "outputs": [
    {
     "data": {
      "text/plain": [
       "array([[ 0,  1,  2,  3],\n",
       "       [ 4,  5,  6,  7],\n",
       "       [ 8,  9, 10, 11],\n",
       "       [12, 13, 14, 15]])"
      ]
     },
     "execution_count": 53,
     "metadata": {},
     "output_type": "execute_result"
    }
   ],
   "source": [
    "a_matrix = np.arange(16).reshape((4,4))\n",
    "a_matrix"
   ]
  },
  {
   "cell_type": "code",
   "execution_count": 54,
   "metadata": {
    "colab": {
     "base_uri": "https://localhost:8080/"
    },
    "id": "kb2VT3sTU4sl",
    "outputId": "08dec586-e919-4e34-af73-3155924700b1"
   },
   "outputs": [
    {
     "data": {
      "text/plain": [
       "array([ 2,  6, 10, 14])"
      ]
     },
     "execution_count": 54,
     "metadata": {},
     "output_type": "execute_result"
    }
   ],
   "source": [
    "a_matrix[:,2]"
   ]
  },
  {
   "cell_type": "code",
   "execution_count": 55,
   "metadata": {
    "colab": {
     "base_uri": "https://localhost:8080/"
    },
    "id": "UaiH5sWNU4sl",
    "outputId": "14f2bdac-c0e9-493f-a879-00fd22755a39"
   },
   "outputs": [
    {
     "data": {
      "text/plain": [
       "array([[ 1,  2],\n",
       "       [ 5,  6],\n",
       "       [ 9, 10],\n",
       "       [13, 14]])"
      ]
     },
     "execution_count": 55,
     "metadata": {},
     "output_type": "execute_result"
    }
   ],
   "source": [
    "a_matrix[:,1:3]"
   ]
  },
  {
   "cell_type": "code",
   "execution_count": 56,
   "metadata": {
    "colab": {
     "base_uri": "https://localhost:8080/"
    },
    "id": "FgrP1CgMU4sl",
    "outputId": "8c2b4477-506c-45f7-917f-1f9e56a7211b"
   },
   "outputs": [
    {
     "data": {
      "text/plain": [
       "array([12, 13, 14, 15])"
      ]
     },
     "execution_count": 56,
     "metadata": {},
     "output_type": "execute_result"
    }
   ],
   "source": [
    "a_matrix[-1,:]"
   ]
  },
  {
   "cell_type": "code",
   "execution_count": 57,
   "metadata": {
    "colab": {
     "base_uri": "https://localhost:8080/"
    },
    "id": "AwjWFp7VU4sl",
    "outputId": "1dac02b1-f8b6-4b3a-f2dc-48c8bf3f1250"
   },
   "outputs": [
    {
     "name": "stdout",
     "output_type": "stream",
     "text": [
      "[0 1 2 3]\n",
      "[4 5 6 7]\n",
      "[ 8  9 10 11]\n",
      "[12 13 14 15]\n"
     ]
    }
   ],
   "source": [
    "for row in a_matrix:\n",
    "    print(row)"
   ]
  },
  {
   "cell_type": "code",
   "execution_count": 58,
   "metadata": {
    "colab": {
     "base_uri": "https://localhost:8080/"
    },
    "id": "fUvNvhKRecIR",
    "outputId": "5aba5b1b-36f6-4a32-fb19-8e93624fbc6c"
   },
   "outputs": [
    {
     "data": {
      "text/plain": [
       "array([[ 6,  7],\n",
       "       [10, 11]])"
      ]
     },
     "execution_count": 58,
     "metadata": {},
     "output_type": "execute_result"
    }
   ],
   "source": [
    "a_matrix[1:3,2:4]"
   ]
  },
  {
   "cell_type": "markdown",
   "metadata": {
    "id": "yF0Ejzemz39I"
   },
   "source": [
    "## Máscaras\n",
    "\n",
    "Es posible seleccionar elementos de un arreglo utilizando como índice otro arreglo de booleanos. Esto es mucho más eficiente que realizar un ciclo que recorra todo el arreglo y ejecute una condición en cada posición."
   ]
  },
  {
   "cell_type": "code",
   "execution_count": 59,
   "metadata": {
    "colab": {
     "base_uri": "https://localhost:8080/"
    },
    "id": "OCWHROmU089z",
    "outputId": "10d79770-db96-4af2-cb2b-0f0d827a791e"
   },
   "outputs": [
    {
     "data": {
      "text/plain": [
       "array([1, 2])"
      ]
     },
     "execution_count": 59,
     "metadata": {},
     "output_type": "execute_result"
    }
   ],
   "source": [
    "import time\n",
    "\n",
    "an_array = np.arange(4)\n",
    "mask = np.array([False,True,True,False])\n",
    "an_array[mask]"
   ]
  },
  {
   "cell_type": "markdown",
   "metadata": {
    "id": "1FN1XZVX1OUt"
   },
   "source": [
    "Las operaciones con máscaras son más rápidas que operar elemento a elemento con condiciones"
   ]
  },
  {
   "cell_type": "code",
   "execution_count": 60,
   "metadata": {
    "colab": {
     "base_uri": "https://localhost:8080/"
    },
    "id": "l5WLTWfzz5_0",
    "outputId": "a3a81d4b-dca0-455d-e3ab-d01ceddec13c"
   },
   "outputs": [
    {
     "data": {
      "text/plain": [
       "array([ 0,  1,  2,  3,  4,  5,  6,  7,  8,  9, 10, 11, 12, 13, 14, 15, 16,\n",
       "       17, 18, 19, 20, 21, 22, 23, 24, 25, 26, 27, 28, 29, 30, 31, 32, 33,\n",
       "       34, 35, 36, 37, 38, 39, 40, 41, 42, 43, 44, 45, 46, 47, 48, 49, 50,\n",
       "       51, 52, 53, 54, 55, 56, 57, 58, 59, 60, 61, 62, 63, 64, 65, 66, 67,\n",
       "       68, 69, 70, 71, 72, 73, 74, 75, 76, 77, 78, 79, 80, 81, 82, 83, 84,\n",
       "       85, 86, 87, 88, 89, 90, 91, 92, 93, 94, 95, 96, 97, 98, 99])"
      ]
     },
     "execution_count": 60,
     "metadata": {},
     "output_type": "execute_result"
    }
   ],
   "source": [
    "an_array = np.arange(100)\n",
    "an_array"
   ]
  },
  {
   "cell_type": "code",
   "execution_count": 61,
   "metadata": {
    "colab": {
     "base_uri": "https://localhost:8080/"
    },
    "id": "8C9Z5Uh50Zy5",
    "outputId": "fbbad7af-5969-402d-8e3c-ac90bcafdc3e"
   },
   "outputs": [
    {
     "data": {
      "text/plain": [
       "array([51, 52, 53, 54, 55, 56, 57, 58, 59, 60, 61, 62, 63, 64, 65, 66, 67,\n",
       "       68, 69, 70, 71, 72, 73, 74, 75, 76, 77, 78, 79, 80, 81, 82, 83, 84,\n",
       "       85, 86, 87, 88, 89, 90, 91, 92, 93, 94, 95, 96, 97, 98, 99])"
      ]
     },
     "execution_count": 61,
     "metadata": {},
     "output_type": "execute_result"
    }
   ],
   "source": [
    "np.array([x for x in an_array if x>50])"
   ]
  },
  {
   "cell_type": "code",
   "execution_count": 62,
   "metadata": {
    "colab": {
     "base_uri": "https://localhost:8080/"
    },
    "id": "BlnIbkeXz9Ze",
    "outputId": "7218ecce-e59a-4db1-c425-daf9993416c0"
   },
   "outputs": [
    {
     "data": {
      "text/plain": [
       "array([51, 52, 53, 54, 55, 56, 57, 58, 59, 60, 61, 62, 63, 64, 65, 66, 67,\n",
       "       68, 69, 70, 71, 72, 73, 74, 75, 76, 77, 78, 79, 80, 81, 82, 83, 84,\n",
       "       85, 86, 87, 88, 89, 90, 91, 92, 93, 94, 95, 96, 97, 98, 99])"
      ]
     },
     "execution_count": 62,
     "metadata": {},
     "output_type": "execute_result"
    }
   ],
   "source": [
    "an_array[an_array>50]"
   ]
  },
  {
   "cell_type": "code",
   "execution_count": 63,
   "metadata": {
    "colab": {
     "base_uri": "https://localhost:8080/"
    },
    "id": "RMzoSdWW0EMh",
    "outputId": "371ba2a6-400d-450b-955f-0f3a03513451"
   },
   "outputs": [
    {
     "name": "stdout",
     "output_type": "stream",
     "text": [
      "36.2 µs ± 6.71 µs per loop (mean ± std. dev. of 7 runs, 10,000 loops each)\n"
     ]
    }
   ],
   "source": [
    "%timeit np.array([x for x in an_array if x>50])"
   ]
  },
  {
   "cell_type": "code",
   "execution_count": 64,
   "metadata": {
    "colab": {
     "base_uri": "https://localhost:8080/"
    },
    "id": "8XK_HfVo0BG_",
    "outputId": "6447145d-fd6f-4912-b4d5-caf4341f21f9"
   },
   "outputs": [
    {
     "name": "stdout",
     "output_type": "stream",
     "text": [
      "4.62 µs ± 237 ns per loop (mean ± std. dev. of 7 runs, 100,000 loops each)\n"
     ]
    }
   ],
   "source": [
    "%timeit an_array[an_array>50]"
   ]
  },
  {
   "cell_type": "markdown",
   "metadata": {
    "id": "IxY0gwMbU4sm"
   },
   "source": [
    "## Tipos de asignación"
   ]
  },
  {
   "cell_type": "markdown",
   "metadata": {
    "id": "dQf-TooVU4sm"
   },
   "source": [
    "### Referencia"
   ]
  },
  {
   "cell_type": "code",
   "execution_count": 65,
   "metadata": {
    "colab": {
     "base_uri": "https://localhost:8080/"
    },
    "id": "6qJfUkAmU4sm",
    "outputId": "ae56c09c-bac4-4c4e-b8ba-41beba4d04d7"
   },
   "outputs": [
    {
     "data": {
      "text/plain": [
       "array([0, 1, 2, 3, 4, 5, 6, 7, 8, 9])"
      ]
     },
     "execution_count": 65,
     "metadata": {},
     "output_type": "execute_result"
    }
   ],
   "source": [
    "an_array = np.arange(10)\n",
    "an_array"
   ]
  },
  {
   "cell_type": "code",
   "execution_count": 66,
   "metadata": {
    "id": "urvep9JKU4sn"
   },
   "outputs": [],
   "source": [
    "another_array = an_array"
   ]
  },
  {
   "cell_type": "code",
   "execution_count": 67,
   "metadata": {
    "colab": {
     "base_uri": "https://localhost:8080/"
    },
    "id": "jfRToKcbU4sn",
    "outputId": "0aca1c08-567f-4937-94bd-a463e698d9ea"
   },
   "outputs": [
    {
     "data": {
      "text/plain": [
       "array([0, 1, 2, 8, 4, 5, 6, 7, 8, 9])"
      ]
     },
     "execution_count": 67,
     "metadata": {},
     "output_type": "execute_result"
    }
   ],
   "source": [
    "another_array[3] = 8\n",
    "an_array"
   ]
  },
  {
   "cell_type": "markdown",
   "metadata": {
    "id": "V9cu9HB8U4sn"
   },
   "source": [
    "### [Vista](https://numpy.org/doc/stable/user/basics.copies.html)"
   ]
  },
  {
   "cell_type": "code",
   "execution_count": 68,
   "metadata": {
    "colab": {
     "base_uri": "https://localhost:8080/"
    },
    "id": "yGrziPStU4sn",
    "outputId": "1806acac-9078-4376-f5e9-afcb619da566"
   },
   "outputs": [
    {
     "data": {
      "text/plain": [
       "array([0, 1, 2, 3, 4, 5, 6, 7, 8, 9])"
      ]
     },
     "execution_count": 68,
     "metadata": {},
     "output_type": "execute_result"
    }
   ],
   "source": [
    "an_array = np.arange(10)\n",
    "an_array"
   ]
  },
  {
   "cell_type": "code",
   "execution_count": 69,
   "metadata": {
    "id": "ooymuYYIU4so"
   },
   "outputs": [],
   "source": [
    "another_array = an_array.view()"
   ]
  },
  {
   "cell_type": "code",
   "execution_count": 70,
   "metadata": {
    "colab": {
     "base_uri": "https://localhost:8080/"
    },
    "id": "3I5DxIdrU4so",
    "outputId": "e68efdf2-cb1e-4bd0-9087-c41a6a070e23"
   },
   "outputs": [
    {
     "data": {
      "text/plain": [
       "array([[0, 1],\n",
       "       [2, 3],\n",
       "       [4, 5],\n",
       "       [6, 7],\n",
       "       [8, 9]])"
      ]
     },
     "execution_count": 70,
     "metadata": {},
     "output_type": "execute_result"
    }
   ],
   "source": [
    "another_array = another_array.reshape((5,2))\n",
    "another_array"
   ]
  },
  {
   "cell_type": "code",
   "execution_count": 71,
   "metadata": {
    "id": "M_suFG40U4so"
   },
   "outputs": [],
   "source": [
    "an_array[3] = 8"
   ]
  },
  {
   "cell_type": "code",
   "execution_count": 72,
   "metadata": {
    "colab": {
     "base_uri": "https://localhost:8080/"
    },
    "id": "hKoyH3WbU4so",
    "outputId": "5427ebe2-3612-4198-e89b-b3dc6ebb9bd5"
   },
   "outputs": [
    {
     "data": {
      "text/plain": [
       "array([[0, 1],\n",
       "       [2, 8],\n",
       "       [4, 5],\n",
       "       [6, 7],\n",
       "       [8, 9]])"
      ]
     },
     "execution_count": 72,
     "metadata": {},
     "output_type": "execute_result"
    }
   ],
   "source": [
    "another_array"
   ]
  },
  {
   "cell_type": "markdown",
   "metadata": {
    "id": "SjMWGnttU4so"
   },
   "source": [
    "### [Copia](https://numpy.org/doc/stable/user/basics.copies.html)\n"
   ]
  },
  {
   "cell_type": "code",
   "execution_count": 73,
   "metadata": {
    "id": "A40b8ZA8U4so"
   },
   "outputs": [],
   "source": [
    "another_array = np.arange(10)"
   ]
  },
  {
   "cell_type": "code",
   "execution_count": 74,
   "metadata": {
    "id": "nyhvyRYlU4sp"
   },
   "outputs": [],
   "source": [
    "an_array = another_array.copy()"
   ]
  },
  {
   "cell_type": "code",
   "execution_count": 75,
   "metadata": {
    "id": "-btcd1wOU4sp"
   },
   "outputs": [],
   "source": [
    "an_array[3] = 8"
   ]
  },
  {
   "cell_type": "code",
   "execution_count": 76,
   "metadata": {
    "colab": {
     "base_uri": "https://localhost:8080/"
    },
    "id": "euZ30kdaU4sp",
    "outputId": "8f610915-f73a-4083-c5f0-5b8875b22081"
   },
   "outputs": [
    {
     "data": {
      "text/plain": [
       "(array([0, 1, 2, 8, 4, 5, 6, 7, 8, 9]), array([0, 1, 2, 3, 4, 5, 6, 7, 8, 9]))"
      ]
     },
     "execution_count": 76,
     "metadata": {},
     "output_type": "execute_result"
    }
   ],
   "source": [
    "an_array, another_array"
   ]
  },
  {
   "cell_type": "markdown",
   "metadata": {
    "id": "EyIFsP5HHF1C"
   },
   "source": [
    "## Operaciones matemáticas"
   ]
  },
  {
   "cell_type": "code",
   "execution_count": 77,
   "metadata": {
    "colab": {
     "base_uri": "https://localhost:8080/"
    },
    "id": "RDFFC5WxHR_f",
    "outputId": "3e06dbe2-4754-4d32-ba4b-867387621c5e"
   },
   "outputs": [
    {
     "data": {
      "text/plain": [
       "499500"
      ]
     },
     "execution_count": 77,
     "metadata": {},
     "output_type": "execute_result"
    }
   ],
   "source": [
    "np.sum(np.arange(1000)) # suma los elementos de un arreglo"
   ]
  },
  {
   "cell_type": "code",
   "execution_count": 78,
   "metadata": {
    "colab": {
     "base_uri": "https://localhost:8080/"
    },
    "id": "DENTJZcJHU05",
    "outputId": "3b08971e-5522-40cb-d193-9f957ad9255c"
   },
   "outputs": [
    {
     "data": {
      "text/plain": [
       "array([24, 28, 32, 36])"
      ]
     },
     "execution_count": 78,
     "metadata": {},
     "output_type": "execute_result"
    }
   ],
   "source": [
    "arr = np.arange(16).reshape(4,4,)\n",
    "np.sum(arr,0) #  de un arreglo 2d, suma solo un eje, el 0, el primero"
   ]
  },
  {
   "cell_type": "code",
   "execution_count": 79,
   "metadata": {
    "colab": {
     "base_uri": "https://localhost:8080/"
    },
    "id": "rOpJ-ag2HkR3",
    "outputId": "b1666110-72e7-4e70-f894-5f0c95fd4b78"
   },
   "outputs": [
    {
     "data": {
      "text/plain": [
       "array([1, 1, 1, 1, 1, 1, 1, 1, 1])"
      ]
     },
     "execution_count": 79,
     "metadata": {},
     "output_type": "execute_result"
    }
   ],
   "source": [
    "np.diff(np.arange(10)) # resta elementos consecutivos"
   ]
  },
  {
   "cell_type": "code",
   "execution_count": 80,
   "metadata": {
    "colab": {
     "base_uri": "https://localhost:8080/"
    },
    "id": "Qg77ayKuHrzm",
    "outputId": "b2baf8c1-23cd-49b6-ae31-2c45362a0cfa"
   },
   "outputs": [
    {
     "data": {
      "text/plain": [
       "array([ 0,  1,  3,  6, 10, 15, 21, 28, 36, 45])"
      ]
     },
     "execution_count": 80,
     "metadata": {},
     "output_type": "execute_result"
    }
   ],
   "source": [
    "np.cumsum(np.arange(10)) # suma acumulada"
   ]
  },
  {
   "cell_type": "markdown",
   "metadata": {
    "id": "iof8f9p5gAcL"
   },
   "source": [
    "## Álgebra Lineal\n",
    "\n",
    "Numpy utiliza BLAS y LAPACK para las operaciones de álgebra lineal\n",
    "\n",
    "https://numpy.org/doc/stable/reference/routines.linalg.html#module-numpy.linalg\n",
    "\n",
    "Descomposiciones, autovalores, normas, determinante, rango, sistemas de ecuaciones, inversa, ..."
   ]
  },
  {
   "cell_type": "code",
   "execution_count": 81,
   "metadata": {
    "id": "1B4nlEbKTD8Z"
   },
   "outputs": [],
   "source": [
    "import numpy.linalg as lng"
   ]
  },
  {
   "cell_type": "code",
   "execution_count": 82,
   "metadata": {
    "colab": {
     "base_uri": "https://localhost:8080/"
    },
    "id": "zrE773G_gFoJ",
    "outputId": "909c77e1-8c52-43bb-de21-554027489466"
   },
   "outputs": [
    {
     "data": {
      "text/plain": [
       "array([[1, 4, 2],\n",
       "       [1, 4, 3],\n",
       "       [6, 6, 2]])"
      ]
     },
     "execution_count": 82,
     "metadata": {},
     "output_type": "execute_result"
    }
   ],
   "source": [
    "A = np.random.randint(1,10,(3,3))\n",
    "A"
   ]
  },
  {
   "cell_type": "code",
   "execution_count": 83,
   "metadata": {
    "colab": {
     "base_uri": "https://localhost:8080/"
    },
    "id": "5twKNrC4gE1U",
    "outputId": "e6b0cc99-04dc-41f1-d53a-b3fb260ccc33"
   },
   "outputs": [
    {
     "data": {
      "text/plain": [
       "array([[-0.55555556,  0.22222222,  0.22222222],\n",
       "       [ 0.88888889, -0.55555556, -0.05555556],\n",
       "       [-1.        ,  1.        , -0.        ]])"
      ]
     },
     "execution_count": 83,
     "metadata": {},
     "output_type": "execute_result"
    }
   ],
   "source": [
    "lng.inv(A)  # Inversa"
   ]
  },
  {
   "cell_type": "code",
   "execution_count": 84,
   "metadata": {
    "colab": {
     "base_uri": "https://localhost:8080/"
    },
    "id": "5twKNrC4gE1U",
    "outputId": "e6b0cc99-04dc-41f1-d53a-b3fb260ccc33"
   },
   "outputs": [
    {
     "data": {
      "text/plain": [
       "17.999999999999996"
      ]
     },
     "execution_count": 84,
     "metadata": {},
     "output_type": "execute_result"
    }
   ],
   "source": [
    "lng.det(A)  # Determinante"
   ]
  },
  {
   "cell_type": "markdown",
   "metadata": {
    "id": "mgYZpsWownP0"
   },
   "source": [
    "## Resolver sistemas de ecuaciones"
   ]
  },
  {
   "cell_type": "code",
   "execution_count": 85,
   "metadata": {
    "colab": {
     "base_uri": "https://localhost:8080/"
    },
    "id": "Nb6bTtiIwmpH",
    "outputId": "7a756118-f623-407f-8da3-daedbfe4959c"
   },
   "outputs": [
    {
     "data": {
      "text/plain": [
       "(array([[-5,  9,  4,  1],\n",
       "        [ 7,  8, -7,  0],\n",
       "        [-6, -3,  9,  9],\n",
       "        [-5,  5,  7,  3]]),\n",
       " array([[ 3],\n",
       "        [-8],\n",
       "        [-4],\n",
       "        [ 0]]),\n",
       " array([[-103],\n",
       "        [ -15],\n",
       "        [ -30],\n",
       "        [ -83]]))"
      ]
     },
     "execution_count": 85,
     "metadata": {},
     "output_type": "execute_result"
    }
   ],
   "source": [
    "A = np.random.randint(-9,10,(4,4))\n",
    "x = np.random.randint(-9,10,(4,1))\n",
    "b = A@x\n",
    "A, x, b"
   ]
  },
  {
   "cell_type": "code",
   "execution_count": 86,
   "metadata": {
    "colab": {
     "base_uri": "https://localhost:8080/"
    },
    "id": "uQ2kt-3mw04b",
    "outputId": "97cac524-f525-40d3-fae1-5c991aa8aecd"
   },
   "outputs": [
    {
     "name": "stdout",
     "output_type": "stream",
     "text": [
      "[[ 3.]\n",
      " [-8.]\n",
      " [-4.]\n",
      " [-0.]]\n"
     ]
    },
    {
     "data": {
      "text/plain": [
       "True"
      ]
     },
     "execution_count": 86,
     "metadata": {},
     "output_type": "execute_result"
    }
   ],
   "source": [
    "x_solve = lng.solve(A,b)\n",
    "print(x_solve)\n",
    "np.allclose(x,x_solve)"
   ]
  },
  {
   "cell_type": "markdown",
   "metadata": {
    "id": "Dr5xCGZwhL6s"
   },
   "source": [
    "## Ejercicios"
   ]
  },
  {
   "cell_type": "markdown",
   "metadata": {
    "id": "GXeH49ml9yCD"
   },
   "source": [
    "Realizar el ejercicio 3 de la práctica 1, ejecutando los comandos indicados.\n",
    "\n",
    "Realizar el ejercicio 21 de la Práctica 1. Utilizar ejercicio21_P1.py, completarlo y ejecutarlo en Spyder. Si surgen errores, hacer debugging en Spyder.\n",
    "\n",
    "Realizar el ejercicio 4 de la práctica 1."
   ]
  },
  {
   "cell_type": "code",
   "execution_count": null,
   "metadata": {
    "id": "BPKjd4vqTD8n"
   },
   "outputs": [],
   "source": []
  }
 ],
 "metadata": {
  "colab": {
   "provenance": [],
   "toc_visible": true
  },
  "kernelspec": {
   "display_name": "Python 3 (ipykernel)",
   "language": "python",
   "name": "python3"
  },
  "language_info": {
   "codemirror_mode": {
    "name": "ipython",
    "version": 3
   },
   "file_extension": ".py",
   "mimetype": "text/x-python",
   "name": "python",
   "nbconvert_exporter": "python",
   "pygments_lexer": "ipython3",
   "version": "3.11.3"
  }
 },
 "nbformat": 4,
 "nbformat_minor": 4
}
