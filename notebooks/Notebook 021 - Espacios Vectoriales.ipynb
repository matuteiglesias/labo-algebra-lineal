{
 "cells": [
  {
   "cell_type": "code",
   "execution_count": null,
   "id": "c7ea841f",
   "metadata": {},
   "outputs": [],
   "source": []
  },
  {
   "cell_type": "markdown",
   "id": "1d0e9e0a",
   "metadata": {},
   "source": [
    "# Clase 1: Introducción a los Espacios Vectoriales y Subespacios\n",
    "\n",
    "\n",
    "## Fundamentos Teóricos\n",
    "\n",
    "### Definición de Espacio Vectorial\n",
    "\n",
    "\n",
    "- **Conceptos Clave:**\n",
    "  - Espacio vectorial\n",
    "  - Cerradura bajo suma y multiplicación por escalar\n",
    "  \n",
    "\n"
   ]
  },
  {
   "cell_type": "markdown",
   "id": "80eec3cd",
   "metadata": {},
   "source": [
    "\n",
    "## Actividad 1.1: \n",
    "\n",
    "### Ejercicio:\n",
    "Implementar una función en Python que verifique si un conjunto dado de vectores forma un espacio vectorial.\n"
   ]
  },
  {
   "cell_type": "code",
   "execution_count": 2,
   "id": "5461b09a",
   "metadata": {},
   "outputs": [],
   "source": [
    "import numpy as np"
   ]
  },
  {
   "cell_type": "code",
   "execution_count": 3,
   "id": "1c2cbd61",
   "metadata": {},
   "outputs": [],
   "source": [
    "def es_espacio_vectorial(vectores):\n",
    "    # Cerradura bajo la suma\n",
    "    for i in range(len(vectores)):\n",
    "        for j in range(len(vectores)):\n",
    "            suma = vectores[i] + vectores[j]\n",
    "            if not np.any(np.isclose(suma, vectores).all(axis=1)):\n",
    "                return False\n",
    "    \n",
    "    # Cerradura bajo multiplicación por escalar\n",
    "    escalar = 2  # Ejemplo de escalar\n",
    "    for v in vectores:\n",
    "        producto = escalar * v\n",
    "        if not np.any(np.isclose(producto, vectores).all(axis=1)):\n",
    "            return False\n",
    "    \n",
    "    return True"
   ]
  },
  {
   "cell_type": "code",
   "execution_count": 4,
   "id": "fab13f06",
   "metadata": {},
   "outputs": [],
   "source": [
    "# Ejemplo de vectores en R3\n",
    "vectores = np.array([\n",
    "    [1, 2, 3],\n",
    "    [4, 5, 6],\n",
    "    [7, 8, 9]\n",
    "])"
   ]
  },
  {
   "cell_type": "code",
   "execution_count": 5,
   "id": "90790f0a",
   "metadata": {},
   "outputs": [
    {
     "name": "stdout",
     "output_type": "stream",
     "text": [
      "¿Es un espacio vectorial? False\n"
     ]
    }
   ],
   "source": [
    "print(\"¿Es un espacio vectorial?\", es_espacio_vectorial(vectores))\n",
    "# Ejercicio... dice False?"
   ]
  },
  {
   "cell_type": "markdown",
   "id": "ca8c8cce",
   "metadata": {},
   "source": [
    "### Ejemplos de Espacios Vectoriales\n",
    "\n",
    "- **Conceptos Clave:**\n",
    "  - Ejemplos de espacios vectoriales\n",
    "\n",
    "## Actividad 1.2: Visualización en Python\n",
    "\n",
    "### Ejercicio:\n",
    "Crear ejemplos de diferentes espacios vectoriales en Python y visualizar su comportamiento."
   ]
  },
  {
   "cell_type": "code",
   "execution_count": 6,
   "id": "5ad2636b",
   "metadata": {},
   "outputs": [],
   "source": [
    "import matplotlib.pyplot as plt"
   ]
  },
  {
   "cell_type": "code",
   "execution_count": 7,
   "id": "d1417d96",
   "metadata": {},
   "outputs": [],
   "source": [
    "def graficar_vectores(vectores):\n",
    "    origen = np.zeros_like(vectores)\n",
    "    plt.quiver(*origen.T, *vectores.T, angles='xy', scale_units='xy', scale=1)\n",
    "    plt.xlim(-5, 5)\n",
    "    plt.ylim(-5, 5)\n",
    "    plt.grid()\n",
    "    plt.show()"
   ]
  },
  {
   "cell_type": "code",
   "execution_count": 8,
   "id": "64c7488f",
   "metadata": {},
   "outputs": [
    {
     "data": {
      "image/png": "[encoded data removed]",
      "text/plain": [
       "<Figure size 640x480 with 1 Axes>"
      ]
     },
     "metadata": {},
     "output_type": "display_data"
    }
   ],
   "source": [
    "# Ejemplo de vectores en R2\n",
    "vectores = np.array([\n",
    "    [-1, 2],\n",
    "    [2, 4],\n",
    "    [-1, -2]\n",
    "])\n",
    "\n",
    "graficar_vectores(vectores)\n"
   ]
  },
  {
   "cell_type": "markdown",
   "id": "fad3594f",
   "metadata": {},
   "source": []
  },
  {
   "cell_type": "markdown",
   "id": "fc7d3eb7",
   "metadata": {},
   "source": [
    "# Ejemplos de Espacios Vectoriales\n",
    "\n",
    "## Introducción\n",
    "\n",
    "Un espacio vectorial es una estructura formada por vectores, que pueden ser sumados entre sí y multiplicados (escalados) por números, llamados escalares en este contexto. Los escalares pueden ser, por ejemplo, números reales o complejos.\n",
    "\n",
    "Un espacio vectorial sobre un campo $ F $ es un conjunto $ V $ junto con dos operaciones que satisfacen los axiomas listados más adelante. Los elementos de $ V $ se llaman vectores y los elementos de $ F $ se llaman escalares.\n",
    "\n",
    "### Ejemplos Comunes de Espacios Vectoriales\n",
    "\n",
    "\n",
    "1. **El espacio de todos los vectores bidimensionales $ \\mathbb{R}^2 $**, con las operaciones de suma vectorial y multiplicación por un escalar.\n",
    "\n",
    "2. **El espacio de todas las secuencias de números reales**, donde la suma y la multiplicación por escalar se definen elemento a elemento.\n",
    "\n",
    "\n",
    "3. **El espacio de todas las funciones continuas**, donde la suma de funciones $ f $ y $ g $ está dada por $ (f + g)(x) = f(x) + g(x) $ y la multiplicación por un escalar $ c $ está dada por $ (cf)(x) = c \\cdot f(x) $.\n",
    "\n",
    "Estos ejemplos ilustran que los espacios vectoriales pueden ser muy generales y abarcar más que simples vectores en $ \\mathbb{R}^n $.\n",
    "\n"
   ]
  },
  {
   "cell_type": "markdown",
   "id": "68e43e5b",
   "metadata": {},
   "source": [
    "\n",
    "### Sugerencias de Ejercicios Adicionales\n",
    "\n",
    "1. **Explorar otros espacios**: Intenta visualizar operaciones en espacios vectoriales diferentes de $ \\mathbb{R}^2 $, como $ \\mathbb{R}^3 $ o el espacio de funciones continuas.\n",
    "\n",
    "2. **Combinaciones lineales**: Crea una función que tome varios vectores y escalares y devuelva una visualización de la combinación lineal de esos vectores.\n",
    "\n",
    "3. **Dependencia e independencia lineal**: Genera un conjunto de vectores y visualiza si son linealmente independientes o dependientes."
   ]
  },
  {
   "cell_type": "markdown",
   "id": "26b78356",
   "metadata": {},
   "source": [
    "Estos ejercicios ayudarán a profundizar la comprensión de los conceptos de espacios vectoriales y sus aplicaciones en diversos campos de la ciencia y la ingeniería.\n",
    "```"
   ]
  },
  {
   "cell_type": "markdown",
   "id": "57ed5136",
   "metadata": {},
   "source": [
    "# Subespacios y Sistemas Homogéneos en $\\mathbb{R}^3$\n",
    "\n",
    "## Introducción\n",
    "\n",
    "El concepto de subespacio es fundamental para entender la estructura de los espacios vectoriales. Un subespacio puede ser entendido como una porción de un espacio vectorial que, a su vez, también es un espacio vectorial.\n",
    "\n",
    "### Definición de Subespacio\n",
    "\n",
    "Un conjunto $V$ dentro de un espacio vectorial $U$ se considera un **subespacio** de $U$ si cumple con las siguientes condiciones:\n",
    "1. **No vacío**: $V$ debe contener al menos un vector, típicamente el vector cero.\n",
    "2. **Cerrado bajo adición**: Para cualquier par de vectores $u, v \\in V$, la suma $u + v$ también debe estar en $V$.\n",
    "3. **Cerrado bajo multiplicación escalar**: Para cualquier vector $u \\in V$ y cualquier escalar $c$, el vector $cu$ debe estar en $V$.\n",
    "\n",
    "Estas propiedades aseguran que cualquier subespacio es, per se, un espacio vectorial."
   ]
  },
  {
   "cell_type": "markdown",
   "id": "a5336496",
   "metadata": {},
   "source": [
    "## Actividad 1.3: Determinación de Subespacios\n",
    "\n",
    "En esta sección, evaluaremos si un conjunto específico de vectores en $\\mathbb{R}^3$ constituye un subespacio. Esto se hará mediante una función en Python que verificará las condiciones necesarias."
   ]
  },
  {
   "cell_type": "code",
   "execution_count": null,
   "id": "edf04b35",
   "metadata": {},
   "outputs": [
    {
     "name": "stdout",
     "output_type": "stream",
     "text": [
      "¿Es un subespacio? True\n"
     ]
    }
   ],
   "source": [
    "\n",
    "import numpy as np\n",
    "\n",
    "def es_espacio_vectorial(vectores):\n",
    "    # Se asume que el vector cero ya está en 'vectores'\n",
    "    from scipy.linalg import null_space\n",
    "    # Calculamos el espacio nulo de la matriz de vectores transpuesta\n",
    "    null_sp = null_space(vectores.T)\n",
    "    # Si el espacio nulo no es trivial, entonces el conjunto de vectores no es un espacio vectorial\n",
    "    return null_sp.size != 0\n",
    "\n",
    "\n",
    "def es_subespacio(vectores):\n",
    "    # Verificar si el cero vector está presente\n",
    "    if not np.any(np.isclose(np.zeros(vectores.shape[1]), vectores).all(axis=1)):\n",
    "        return False\n",
    "    return es_espacio_vectorial(vectores)\n",
    "\n",
    "\n",
    "# Ejemplo de vectores en R3\n",
    "vectores = np.array([\n",
    "    [1, 2, 3],\n",
    "    [4, 5, 6],\n",
    "    [7, 8, 9],\n",
    "    [0, 0, 0]  # Agregar el vector cero\n",
    "])\n",
    "\n",
    "print(\"¿Es un subespacio?\", es_subespacio(vectores))\n"
   ]
  },
  {
   "cell_type": "markdown",
   "id": "6e8fb674",
   "metadata": {},
   "source": [
    "### Discusión de Resultados\n",
    "\n",
    "El código anterior verifica primero si el conjunto de vectores incluye el vector cero, lo cual es una condición necesaria pero no suficiente para ser un subespacio. Luego, utiliza el concepto de espacio nulo para determinar si el conjunto es cerrado bajo combinaciones lineales. Si el espacio nulo de la matriz transpuesta de vectores es no trivial (tiene dimensiones mayores que cero), entonces el conjunto puede generar el espacio $\\mathbb{R}^3$ completo y, por lo tanto, no es un subespacio."
   ]
  },
  {
   "cell_type": "markdown",
   "id": "4bb7d552",
   "metadata": {},
   "source": [
    "### Sugerencias para Ejercicios Adicionales\n",
    "\n",
    "1. Modificar los vectores del ejemplo y evaluar diferentes conjuntos para determinar si forman un subespacio.\n",
    "2. Implementar una visualización gráfica que muestre los vectores en el espacio $\\mathbb{R}^3$ para entender mejor su disposición y relación.\n",
    "3. Extender la función para que maneje errores y casos en los que las entradas no sean arrays de NumPy o no tengan la forma adecuada."
   ]
  },
  {
   "cell_type": "markdown",
   "id": "362df1f8",
   "metadata": {},
   "source": [
    "\n",
    "# Subespacios y Sistema Homogéneo\n",
    "\n",
    "## Introducción\n",
    "\n",
    "En álgebra lineal, un **sistema de ecuaciones lineales homogéneo** tiene la forma $Ax = 0$, donde $A$ es una matriz y $x$ es un vector de variables. Un sistema es homogéneo si todos los términos constantes son cero, y siempre tiene al menos la solución trivial $x = 0$. El conjunto de todas las soluciones posibles de un sistema homogéneo forma un subespacio vectorial del espacio vectorial correspondiente.\n",
    "\n",
    "### Objetivos de Aprendizaje\n",
    "\n",
    "- Comprender el concepto de sistemas homogéneos y cómo resolverlos.\n",
    "- Implementar una función en Python para resolver sistemas homogéneos utilizando bibliotecas numéricas.\n",
    "\n",
    "### Herramientas Utilizadas\n",
    "\n",
    "- `numpy`: para operaciones de matrices y vectores.\n",
    "- `numpy.linalg`: un submódulo de `numpy` que proporciona herramientas para trabajar con álgebra lineal."
   ]
  },
  {
   "cell_type": "code",
   "execution_count": null,
   "id": "70fcf37f",
   "metadata": {},
   "outputs": [],
   "source": []
  },
  {
   "cell_type": "markdown",
   "id": "577dcd58",
   "metadata": {},
   "source": [
    "## Actividad 1.4: Solución de Sistemas Homogéneos\n",
    "\n",
    "En esta sección, implementaremos una función que resuelva sistemas homogéneos y analizaremos un ejemplo específico.\n",
    "\n",
    "### Implementación de la Función\n",
    "\n",
    "La función `resolver_sistema_homogeneo` toma una matriz $A$ y resuelve el sistema $Ax = 0$. Utilizaremos la función `solve` del submódulo `numpy.linalg` para encontrar la solución."
   ]
  },
  {
   "cell_type": "code",
   "execution_count": null,
   "id": "6d8e6c68",
   "metadata": {},
   "outputs": [
    {
     "name": "stdout",
     "output_type": "stream",
     "text": [
      "Solución del sistema homogéneo: [0. 0. 0.]\n"
     ]
    }
   ],
   "source": [
    "import numpy as np\n",
    "from numpy.linalg import solve, LinAlgError\n",
    "\n",
    "def resolver_sistema_homogeneo(A):\n",
    "    try:\n",
    "        # Intenta resolver A*x = 0\n",
    "        solucion = solve(A, np.zeros(A.shape[0]))\n",
    "        return solucion\n",
    "    except LinAlgError:\n",
    "        return \"El sistema no tiene solución única o no es resoluble.\"\n",
    "\n",
    "# Ejemplo de sistema homogéneo\n",
    "A = np.array([\n",
    "    [1, 2, -1],\n",
    "    [2, -1, 3],\n",
    "    [3, 1, -2]\n",
    "])\n",
    "\n",
    "solucion = resolver_sistema_homogeneo(A)\n",
    "print(\"Solución del sistema homogéneo:\", solucion)"
   ]
  },
  {
   "cell_type": "markdown",
   "id": "7ed2bbbb",
   "metadata": {},
   "source": [
    "### Análisis de la Solución\n",
    "\n",
    "En el ejemplo anterior, definimos la matriz $A$ de un sistema homogéneo y utilizamos nuestra función para encontrar la solución. La función `solve` intenta encontrar una solución que satisfaga $Ax = 0$. Si la matriz es singular (no invertible) o no se puede resolver de manera única, la función capturará el error y devolverá un mensaje apropiado.\n",
    "\n",
    "### Observaciones Adicionales y Sugerencias de Ejercicios\n",
    "\n",
    "1. **Explora diferentes matrices**: Modifica la matriz $A$ en el código y observa cómo cambia la solución. Intenta con matrices que sean singulares y no singulares.\n",
    "\n",
    "2. **Propiedades del subespacio**: Discute y verifica si el conjunto de soluciones forma un subespacio vectorial del espacio $\\mathbb{R}^n$.\n",
    "\n",
    "3. **Dimensiones del subespacio**: Intenta calcular la dimensión del subespacio solución para diferentes matrices y compara tus resultados con el rango de la matriz.\n",
    "\n",
    "Estas actividades te ayudarán a profundizar tu comprensión de los sistemas homogéneos y sus propiedades en el ámbito del álgebra lineal."
   ]
  },
  {
   "cell_type": "markdown",
   "id": "db7f58b5",
   "metadata": {},
   "source": [
    "# Espacios Vectoriales Reales y Dimensión\n",
    "\n",
    "En este notebook exploraremos los conceptos básicos de espacios vectoriales con un enfoque en los espacios de funciones. Aprovecharemos para verificar si un conjunto particular de funciones forma un espacio vectorial bajo las operaciones usuales de suma de funciones y multiplicación por escalares.\n",
    "\n",
    "## Conceptos Clave: Espacios Vectoriales\n",
    "\n",
    "Un **espacio vectorial** sobre un campo $\\mathbb{F}$ (como los reales $\\mathbb{R}$ o los complejos $\\mathbb{C}$) es un conjunto $V$ junto con dos operaciones:\n",
    "- **Suma**: $+ : V \\times V \\rightarrow V$\n",
    "- **Multiplicación por escalar**: $\\cdot : \\mathbb{F} \\times V \\rightarrow V$\n",
    "\n",
    "Estas operaciones deben satisfacer ciertas propiedades (axiomas), como la asociatividad y la conmutatividad de la suma, la distributividad de la multiplicación escalar respecto a la suma en $V$ y en $\\mathbb{F}$, entre otros.\n",
    "\n",
    "### Espacios de Funciones\n",
    "\n",
    "Un espacio de funciones es un ejemplo de espacio vectorial donde los elementos de $V$ son funciones. En este contexto, la suma de funciones y la multiplicación por escalares se definen de la forma usual:\n",
    "\n",
    "- $(f+g)(x) = f(x) + g(x)$\n",
    "- $(\\alpha \\cdot f)(x) = \\alpha \\cdot f(x)$\n"
   ]
  },
  {
   "cell_type": "markdown",
   "id": "b6a909b9",
   "metadata": {},
   "source": [
    "## Actividad 1.5: Verificación de Espacios Vectoriales Reales\n",
    "\n",
    "En esta sección, verificaremos si el conjunto $ C[0,1] $ de todas las funciones continuas en el intervalo [0,1] forma un espacio vectorial. Los axiomas que necesitamos verificar son principalmente la cerradura bajo la suma y la multiplicación por escalar.\n",
    "\n",
    "### Ejercicio: Verificar si el conjunto de funciones continuas en [0,1] forma un espacio vectorial\n",
    "\n",
    "Consideramos tres funciones continuas como ejemplos y verificamos las propiedades de cerradura.\n"
   ]
  },
  {
   "cell_type": "code",
   "execution_count": null,
   "id": "36c71040",
   "metadata": {},
   "outputs": [
    {
     "name": "stdout",
     "output_type": "stream",
     "text": [
      "¿Es un espacio vectorial de funciones? True\n"
     ]
    }
   ],
   "source": [
    "def es_espacio_vectorial_funciones(funciones):\n",
    "    # Verificar cerradura bajo la suma y multiplicación por escalar\n",
    "    escalar = 2\n",
    "    for f in funciones:\n",
    "        for g in funciones:\n",
    "            suma = lambda x: f(x) + g(x)\n",
    "            producto = lambda x: escalar * f(x)\n",
    "            if not all(callable(suma) and callable(producto) for f in funciones):\n",
    "                return False\n",
    "    return True\n",
    "    \n",
    "# Ejemplo de funciones continuas en [0, 1]\n",
    "funciones = [\n",
    "    lambda x: x**2,\n",
    "    lambda x: x + 1,\n",
    "    lambda x: 2*x - 1\n",
    "]\n",
    "\n",
    "print(\"¿Es un espacio vectorial de funciones?\", es_espacio_vectorial_funciones(funciones))\n"
   ]
  },
  {
   "cell_type": "markdown",
   "id": "7910ed6b",
   "metadata": {},
   "source": [
    "### Discusión\n",
    "\n",
    "La función `es_espacio_vectorial_funciones` intenta verificar si un conjunto dado de funciones satisface las propiedades de cerradura bajo las operaciones de suma y multiplicación por escalar. Sin embargo, el código tiene un error lógico en la comprensión de lista que debería ser corregido para una evaluación adecuada. Además, esta verificación se ha hecho solo para un conjunto finito y específico de funciones, y no garantiza que todas las funciones continuas en [0,1] cumplan las propiedades necesarias para ser un espacio vectorial.\n",
    "\n",
    "\n",
    "### Ejercicios Adicionales\n",
    "\n",
    "1. **Generalización**: Extienda la función de verificación para incluir pruebas de otros axiomas vectoriales.\n",
    "2. **Exploración**: Cambie las funciones en la lista `funciones` y observe si el resultado sobre si forman un espacio vectorial cambia.\n",
    "3. **Teoría**: Demuestre que el conjunto de todas las funciones polinomiales en [0,1] también forma un espacio vectorial.\n",
    "\n",
    "# Espacios Vectoriales y Dimensión\n",
    "\n",
    "## Introducción a Espacios Vectoriales\n",
    "\n",
    "Un **espacio vectorial** es una estructura matemática formada por una colección de vectores, que puede ser sumada entre sí y multiplicada (\"escalada\") por números, llamados escalares en este contexto. Los escalares son a menudo tomados como números reales, pero también pueden ser números complejos o incluso otros tipos de números.\n",
    "\n",
    "### Propiedades de los Espacios Vectoriales\n",
    "\n",
    "Un espacio vectorial sobre un campo $ F $ debe satisfacer las siguientes propiedades:\n",
    "\n",
    "1. **Asociatividad de la adición**: $ u + (v + w) = (u + v) + w $\n",
    "2. **Conmutatividad de la adición**: $ u + v = v + u $\n",
    "3. **Elemento neutro de la adición**: Existe un elemento $ 0 $ tal que $ v + 0 = v $\n",
    "4. **Inverso aditivo**: Para cada $ v $, existe $ -v $ tal que $ v + (-v) = 0 $\n",
    "5. **Compatibilidad de la multiplicación escalar**: $ a(bv) = (ab)v $\n",
    "6. **Identidad de la multiplicación escalar**: $ 1v = v $\n",
    "7. **Distributividad de la multiplicación escalar respecto a la adición vectorial**: $ a(u + v) = au + av $\n",
    "8. **Distributividad de la multiplicación escalar respecto a la adición de escalares**: $ (a + b)v = av + bv $\n",
    "\n",
    "\n",
    "### Dimensión de un Espacio Vectorial\n",
    "\n",
    "La **dimensión** de un espacio vectorial es el número de vectores en una base del espacio vectorial. Una base es un conjunto de vectores que son linealmente independientes y que generan el espacio vectorial completo.\n",
    "\n",
    "## Actividad 1.6: Verificación de la Dimensión de un Espacio Vectorial\n",
    "\n",
    "En esta sección, implementaremos un script para verificar la dimensión de un espacio vectorial, enfocándonos en los polinomios como vectores.\n",
    "\n",
    "### Ejercicio\n",
    "\n",
    "Implementar un script para verificar la dimensión de un espacio vectorial de polinomios."
   ]
  },
  {
   "cell_type": "code",
   "execution_count": null,
   "id": "2f32c4bc",
   "metadata": {},
   "outputs": [
    {
     "name": "stdout",
     "output_type": "stream",
     "text": [
      "Dimensión del espacio vectorial de polinomios: 3\n"
     ]
    }
   ],
   "source": [
    "import numpy as np\n",
    "\n",
    "def dimension_espacio_vectorial(vectores):\n",
    "    \"\"\"\n",
    "    Calcula la dimensión de un espacio vectorial dado por los vectores en 'vectores'.\n",
    "    \n",
    "    Args:\n",
    "    vectores (numpy.ndarray): Matriz cuyas filas son los vectores del espacio vectorial.\n",
    "\n",
    "    Returns:\n",
    "    int: La dimensión del espacio vectorial.\n",
    "    \"\"\"\n",
    "    return np.linalg.matrix_rank(vectores)\n",
    "\n",
    "\n",
    "# Ejemplo de espacio vectorial de polinomios\n",
    "polinomios = np.array([\n",
    "    [1, 0, 0],  # Polinomio p(x) = 1\n",
    "    [0, 1, 0],  # Polinomio p(x) = x\n",
    "    [0, 0, 1]   # Polinomio p(x) = x^2\n",
    "])\n",
    "\n",
    "print(\"Dimensión del espacio vectorial de polinomios:\", dimension_espacio_vectorial(polinomios))\n"
   ]
  },
  {
   "cell_type": "markdown",
   "id": "cca37db3",
   "metadata": {},
   "source": [
    "### Discusión\n",
    "\n",
    "En el ejemplo anterior, definimos un espacio vectorial de polinomios donde cada vector representa un polinomio de hasta grado 2. La función `dimension_espacio_vectorial` utiliza la función `np.linalg.matrix_rank`, que calcula el rango de la matriz formada por los vectores. Dado que los vectores son linealmente independientes y generan todo el espacio de polinomios de grado hasta 2, la dimensión del espacio es 3.\n",
    "\n",
    "### Ejercicios Adicionales\n",
    "\n",
    "1. Modifica el conjunto de polinomios para incluir polinomios de grado mayor y verifica la nueva dimensión del espacio vectorial.\n",
    "2. Implementa una función que genere espacios vectoriales de polinomios de un grado dado y verifica sus dimensiones.\n",
    "3. Discute cómo cambiaría la dimensión si se consideran polinomios con coeficientes en un campo finito, por ejemplo, los números modulares."
   ]
  },
  {
   "cell_type": "markdown",
   "id": "1c3dc029",
   "metadata": {},
   "source": [
    "## Punto Flotante y Precisión Numérica\n",
    "\n",
    "### Conceptos Clave\n",
    "- Aritmética de punto flotante\n",
    "- Errores de redondeo\n",
    "\n",
    "### Introducción a la Aritmética de Punto Flotante\n",
    "La aritmética de punto flotante es una fórmula matemática utilizada para aproximar números reales en ordenadores. \n",
    "Esta representación es crucial para la mayoría de las operaciones numéricas en computación, pero puede llevar a errores de precisión o redondeo debido a su naturaleza aproximada."
   ]
  },
  {
   "cell_type": "code",
   "execution_count": null,
   "id": "53a8a7b9",
   "metadata": {},
   "outputs": [
    {
     "name": "stdout",
     "output_type": "stream",
     "text": [
      "Suma: 1.0000000001\n",
      "Resta: 1.000000082740371e-10\n"
     ]
    }
   ],
   "source": [
    "\n",
    "def errores_punto_flotante():\n",
    "    a = 1.0\n",
    "    b = 10**-10\n",
    "    suma = a + b\n",
    "    resta = suma - a\n",
    "    print(f\"Suma: {suma}\")\n",
    "    print(f\"Resta: {resta}\")\n",
    "\n",
    "errores_punto_flotante()\n"
   ]
  },
  {
   "cell_type": "markdown",
   "id": "84490e59",
   "metadata": {},
   "source": [
    "### Ajuste de Parábolas: Encontrar Coeficientes Exactos y Aproximados\n",
    "\n",
    "El ajuste de curvas es una técnica esencial en matemática aplicada, utilizada para modelar la relación entre una variable dependiente y una o más variables independientes.\n",
    "\n",
    "Una parábola es una curva que sigue una ecuación cuadrática de la forma:\n",
    "\n",
    "$ y = ax^2 + bx + c $\n",
    "\n",
    "donde $ a $, $ b $, y $ c $ son los coeficientes que determinan su forma y posición.\n",
    "\n",
    "### Objetivo\n",
    "\n",
    "El objetivo es determinar los coeficientes $ a $, $ b $, y $ c $ de la parábola que pasa por un conjunto de puntos dados. Abordaremos esto utilizando dos enfoques en Python: una solución exacta mediante álgebra lineal y una solución aproximada utilizando el método de los mínimos cuadrados.\n",
    "\n",
    "### Métodos de Solución\n",
    "\n",
    "#### 1. Solución Exacta\n",
    "\n",
    "La solución exacta se puede obtener resolviendo un sistema de ecuaciones lineales. Dado un conjunto de puntos $ (x_i, y_i) $, podemos construir un sistema de ecuaciones de la forma $ Ax = y $, donde $ A $ es una matriz que contiene los términos cuadráticos, lineales y constantes de $ x $, y $ y $ es el vector de valores dependientes.\n",
    "\n",
    "En Python, esto se puede implementar con `numpy.linalg.solve` para obtener los coeficientes exactos.\n",
    "\n",
    "#### 2. Método de los Mínimos Cuadrados\n",
    "\n",
    "El método de los mínimos cuadrados encuentra una parábola que minimiza la suma de los cuadrados de las diferencias entre los valores observados y los valores predichos. Esto se formula como un sistema de ecuaciones lineales que se resuelve para obtener una solución aproximada.\n",
    "\n",
    "En Python, se puede implementar utilizando `numpy.linalg.lstsq`.\n",
    "\n",
    "### Implementación en Python\n"
   ]
  },
  {
   "cell_type": "code",
   "execution_count": 17,
   "id": "69f48ed3",
   "metadata": {},
   "outputs": [
    {
     "data": {
      "image/png": "[encoded data removed]",
      "text/plain": [
       "<Figure size 640x480 with 1 Axes>"
      ]
     },
     "metadata": {},
     "output_type": "display_data"
    }
   ],
   "source": [
    "\n",
    "import numpy as np\n",
    "import matplotlib.pyplot as plt\n",
    "\n",
    "\n",
    "# Puntos por los que pasa la parábola\n",
    "x_puntos = np.array([1, 2, 3])\n",
    "y_puntos = np.array([1, 2, 0])\n",
    "\n",
    "# Sistema de ecuaciones para encontrar a, b y c\n",
    "A = np.vstack([x_puntos**2, x_puntos, np.ones(len(x_puntos))]).T\n",
    "\n",
    "# Resolvemos el sistema exacto para los coeficientes a, b, c\n",
    "coeficientes = np.linalg.solve(A, y_puntos)\n",
    "\n",
    "# # Resolver el sistema usando método de mínimos cuadrados\n",
    "# coeficientes = np.linalg.lstsq(A, y_puntos, rcond=None)[0]\n",
    "\n",
    "# Graficar puntos y parábola\n",
    "x = np.linspace(0, 4, 100)\n",
    "y = coeficientes[0] * x**2 + coeficientes[1] * x + coeficientes[2]\n",
    "\n",
    "plt.plot(x_puntos, y_puntos, 'o', label='Puntos dados')\n",
    "plt.plot(x, y, label='Parábola exacta')\n",
    "plt.legend()\n",
    "plt.show()\n"
   ]
  },
  {
   "cell_type": "markdown",
   "id": "bbad95f9",
   "metadata": {},
   "source": []
  },
  {
   "cell_type": "markdown",
   "id": "ce8bffab",
   "metadata": {},
   "source": [
    "## Análisis de Resultados\n",
    "\n",
    "El gráfico anterior muestra tanto los puntos dados como la parábola ajustada mediante el método de mínimos cuadrados. Los coeficientes $ a $, $ b $, y $ c $ resultantes definen la curva que mejor se ajusta a los puntos en el sentido de minimizar el error cuadrático.\n",
    "\n",
    "## Sugerencias para Prácticas Adicionales\n",
    "\n",
    "1. **Experimentación**: Intenta cambiar los puntos dados y observa cómo varía la parábola resultante.\n",
    "2. **Exploración de otros tipos de funciones**: Utiliza este método para ajustar otros tipos de funciones a un conjunto de datos, como funciones exponenciales o logarítmicas.\n",
    "3. **Análisis de Sensibilidad**: Analiza cómo el error en las mediciones de los puntos afecta los coeficientes de la parábola."
   ]
  },
  {
   "cell_type": "markdown",
   "id": "220db304",
   "metadata": {},
   "source": []
  }
 ],
 "metadata": {
  "kernelspec": {
   "display_name": "base2",
   "language": "python",
   "name": "python3"
  },
  "language_info": {
   "codemirror_mode": {
    "name": "ipython",
    "version": 3
   },
   "file_extension": ".py",
   "mimetype": "text/x-python",
   "name": "python",
   "nbconvert_exporter": "python",
   "pygments_lexer": "ipython3",
   "version": "3.11.3"
  }
 },
 "nbformat": 4,
 "nbformat_minor": 5
}
